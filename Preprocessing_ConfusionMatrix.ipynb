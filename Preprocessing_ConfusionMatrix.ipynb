{
  "cells": [
    {
      "cell_type": "code",
      "execution_count": null,
      "metadata": {
        "id": "3LP0Tk2QVwjW"
      },
      "outputs": [],
      "source": [
        "!pip install transformers googletrans==4.0.0-rc1\n",
        "\n",
        "import json\n",
        "import os\n",
        "import numpy as np\n",
        "\n",
        "import torch\n",
        "from torchvision import models, transforms\n",
        "from transformers import AutoTokenizer, AutoModel, BertTokenizer, BertModel\n",
        "\n",
        "from PIL import Image\n",
        "from googletrans import Translator\n",
        "from sklearn.metrics.pairwise import cosine_similarity\n",
        "import urllib.request\n",
        "\n",
        "import re\n",
        "import nltk\n",
        "from nltk.corpus import stopwords\n",
        "from nltk.stem import WordNetLemmatizer\n",
        "\n",
        "\n",
        "from tqdm import tqdm\n",
        "import time"
      ]
    },
    {
      "cell_type": "code",
      "execution_count": null,
      "metadata": {
        "colab": {
          "base_uri": "https://localhost:8080/"
        },
        "id": "CoIedd8Tmees",
        "outputId": "b015d3d1-8fcc-4c39-cb55-a0d88d10a44f"
      },
      "outputs": [
        {
          "name": "stdout",
          "output_type": "stream",
          "text": [
            "Downloaded captions.json\n"
          ]
        }
      ],
      "source": [
        "img_path = \"images.zip\"\n",
        "cap_path = \"captions.json\"\n",
        "\n",
        "'''if not os.path.exists(img_path):\n",
        "    img_url = \"https://data.mendeley.com/public-files/datasets/rxxch9vw59/files/220ffc5a-8645-4c0b-bd1b-97188836ed3b/file_downloaded\"\n",
        "    img_path, _ = urllib.request.urlretrieve(img_url, img_path)\n",
        "    print(f\"Downloaded {img_path}\")\n",
        "else:\n",
        "    print(f\"File {img_path} already exists.\")'''\n",
        "\n",
        "if not os.path.exists(cap_path):\n",
        "    cap_url = \"https://data.mendeley.com/public-files/datasets/rxxch9vw59/files/9b3e789a-5a5c-48b3-8a2c-2c91e9307c2a/file_downloaded\"\n",
        "    req = urllib.request.Request(cap_url, headers={\"User-Agent\": \"Mozilla/5.0\"})\n",
        "    with urllib.request.urlopen(req) as response, open(cap_path, 'wb') as out_file:\n",
        "        out_file.write(response.read())\n",
        "    print(f\"Downloaded {cap_path}\")\n",
        "else:\n",
        "    print(f\"File {cap_path} already exists.\")"
      ]
    },
    {
      "cell_type": "code",
      "execution_count": null,
      "metadata": {
        "colab": {
          "base_uri": "https://localhost:8080/"
        },
        "id": "LoF5o2XgtrEs",
        "outputId": "f7a0dd78-c79c-4ae0-ab2b-f04d4e7d9d89"
      },
      "outputs": [
        {
          "name": "stdout",
          "output_type": "stream",
          "text": [
            "Preview of captions.json content:\n",
            "[\n",
            "  {\n",
            "    \"filename\": \"1.png\",\n",
            "    \"caption\": [\n",
            "      \"\\u09a4\\u09bf\\u09a8 \\u099c\\u09a8 \\u09ae\\u09c7\\u09df\\u09c7 \\u09ae\\u09be\\u09a8\\u09c1\\u09b7 \\u0986\\u099b\\u09c7\\u0964 \\u098f\\u0995 \\u099c\\u09a8 \\u09a6\\u09be\\u09dc\\u09bf\\u09df\\u09c7 \\u0986\\u099b\\u09c7 \\u0986\\u09b0 \\u09a6\\u09c1\\u0987 \\u099c\\u09a8 \\u09ac\\u09b8\\u09c7 \\u0986\\u099b\\u09c7\\u0964\",\n",
            "      \"\\u098f\\u0995\\u099f\\u09bf \\u09b9\\u09b2\\u09c1\\u09a6 \\u099c\\u09be\\u09ae\\u09be \\u09aa\\u09be\\u09df\\u099c\\u09be\\u09ae\\u09be \\u09aa\\u09b0\\u09be \\u09ae\\u09b9\\u0\n"
          ]
        }
      ],
      "source": [
        "if os.path.exists(cap_path):\n",
        "    with open(cap_path, 'r') as f:\n",
        "        data = json.load(f)\n",
        "    print(\"Preview of captions.json content:\")\n",
        "    print(json.dumps(data, indent=2)[:500])  # Print the first 500 characters"
      ]
    },
    {
      "cell_type": "code",
      "execution_count": null,
      "metadata": {
        "colab": {
          "base_uri": "https://localhost:8080/",
          "height": 321,
          "referenced_widgets": [
            "8a346fa8e29a4fe3b5f105ea5ef3d2c9",
            "d2864a59f28b4715b6e302169140094b",
            "a36b1e7abd7749129b12f9274a9036df",
            "7810855255c349b986e4bf935e75115b",
            "beee3e77879a4e8195bd60203b2d3f3c",
            "5ec55d6c43df4545947bf2be20de4db0",
            "97c858bc93a44ab49e0143141bc63f5f",
            "4c55b3c4c9c44dd78743730481c3e482",
            "9f37f53723f44d628a4b27b5a11d0007",
            "31025aab223542ad81eaf96daec9569a",
            "5ab71ada3b8d400da752e908a440b73e",
            "7ac0e3f9f8ac4c15a47c5ea115d929bf",
            "d76fb7c7b945471cb5b11cb90c82672c",
            "5f1651416f3143288bc948892bd032a4",
            "9a3843f83b8645eabb7a0e6a5383ef3c",
            "aae5a56d47844fe2a190c03a3c5b1d56",
            "fb518a8fde7a4909b49b26b5850dc7f8",
            "aea50fe8b17441c9a5601698b45a0d75",
            "ca245985c3224010b7ca88af011e50e3",
            "a5a6a0b8434741c2853abca9fabaed6c",
            "f0eccc98ca6b4278859e8251b0c89efe",
            "0808b14d352b49ef9f98cb73f480be28",
            "488eba72914342e9850e688b683dbd3f",
            "a16fb03ac2024515b393103343039375",
            "52e3334e00814e198ffe50bfaa29ece4",
            "7f9a986816b5471ca017867c3b1fc55f",
            "97b3e4a75e074bbb81713d300aef141c",
            "43bb159564104b46961f7b6baf3441c9",
            "e749510ece124764af8f8bbab84d15de",
            "0114d6fc765b4b5589c4fe68de1a2fe9",
            "13606ceed1f04fec86d93df1baf9fccc",
            "69ebb12e47ea4207b9c7a2946e554a3f",
            "d1ba194527874023adc9ad2ec35ab6c2",
            "0b382eb91d9c4c90a1dadd95a322e172",
            "80575ae53f0043edbf4896e4d93d1535",
            "14892a9a1bdc4703ade4b568673802aa",
            "5589348694f04505b7c97f791c4f3cfd",
            "f289ca3e52174bbdaf393170874f9bfc",
            "f9a333bdd2834214bb2f783c5672a57c",
            "0823e86e02424165a23799fb053493d3",
            "f04aa8bdcab146fc84618932a563118c",
            "1b8172c8ea3442d999b93995b07c3bf6",
            "e72519994a9c484ca6e1173986785cb9",
            "786e076951e541c092a6e7233110ab7a"
          ]
        },
        "id": "sBhYgNq2xhCv",
        "outputId": "def6a36c-1b59-40fc-fd21-030f2337b606"
      },
      "outputs": [
        {
          "name": "stderr",
          "output_type": "stream",
          "text": [
            "[nltk_data] Downloading package stopwords to /root/nltk_data...\n",
            "[nltk_data]   Unzipping corpora/stopwords.zip.\n",
            "[nltk_data] Downloading package wordnet to /root/nltk_data...\n",
            "/usr/local/lib/python3.10/dist-packages/huggingface_hub/utils/_auth.py:94: UserWarning: \n",
            "The secret `HF_TOKEN` does not exist in your Colab secrets.\n",
            "To authenticate with the Hugging Face Hub, create a token in your settings tab (https://huggingface.co/settings/tokens), set it as secret in your Google Colab and restart your session.\n",
            "You will be able to reuse this secret in all of your notebooks.\n",
            "Please note that authentication is recommended but still optional to access public models or datasets.\n",
            "  warnings.warn(\n"
          ]
        },
        {
          "data": {
            "application/vnd.jupyter.widget-view+json": {
              "model_id": "8a346fa8e29a4fe3b5f105ea5ef3d2c9",
              "version_major": 2,
              "version_minor": 0
            },
            "text/plain": [
              "tokenizer_config.json:   0%|          | 0.00/48.0 [00:00<?, ?B/s]"
            ]
          },
          "metadata": {},
          "output_type": "display_data"
        },
        {
          "data": {
            "application/vnd.jupyter.widget-view+json": {
              "model_id": "7ac0e3f9f8ac4c15a47c5ea115d929bf",
              "version_major": 2,
              "version_minor": 0
            },
            "text/plain": [
              "config.json:   0%|          | 0.00/570 [00:00<?, ?B/s]"
            ]
          },
          "metadata": {},
          "output_type": "display_data"
        },
        {
          "data": {
            "application/vnd.jupyter.widget-view+json": {
              "model_id": "488eba72914342e9850e688b683dbd3f",
              "version_major": 2,
              "version_minor": 0
            },
            "text/plain": [
              "vocab.txt:   0%|          | 0.00/232k [00:00<?, ?B/s]"
            ]
          },
          "metadata": {},
          "output_type": "display_data"
        },
        {
          "data": {
            "application/vnd.jupyter.widget-view+json": {
              "model_id": "0b382eb91d9c4c90a1dadd95a322e172",
              "version_major": 2,
              "version_minor": 0
            },
            "text/plain": [
              "tokenizer.json:   0%|          | 0.00/466k [00:00<?, ?B/s]"
            ]
          },
          "metadata": {},
          "output_type": "display_data"
        }
      ],
      "source": [
        "nltk.download('stopwords')\n",
        "nltk.download('wordnet')\n",
        "tokenizer = AutoTokenizer.from_pretrained(\"bert-base-uncased\")"
      ]
    },
    {
      "cell_type": "code",
      "execution_count": null,
      "metadata": {
        "id": "5ejkBHL9s7uK"
      },
      "outputs": [],
      "source": [
        "def batch_translate(captions, delimiter=\"|||\"):\n",
        "    \"\"\"Translate captions in a batch using a delimiter.\"\"\"\n",
        "    translator = Translator()\n",
        "\n",
        "    if not captions:\n",
        "        raise ValueError(\"Caption batch is empty.\")\n",
        "\n",
        "    valid_captions = [caption for caption in captions if caption]  # Filter out None or empty captions\n",
        "\n",
        "    if not valid_captions:\n",
        "        raise ValueError(\"All captions in the batch are empty or None.\")\n",
        "\n",
        "    try:\n",
        "        concatenated = f\" {delimiter} \".join(captions)\n",
        "        translated = translator.translate(concatenated, src='bn', dest='en')\n",
        "\n",
        "        if not translated or not translated.text:\n",
        "            raise ValueError(\"Translation returned no results.\")\n",
        "        time.sleep(2)\n",
        "        return translated.text.split(delimiter)\n",
        "    except Exception as e:\n",
        "        print(f\"Error during translation: {e}\")\n",
        "        return [\"\"] * len(captions)"
      ]
    },
    {
      "cell_type": "code",
      "execution_count": null,
      "metadata": {
        "id": "-4pWjSkFyNyi"
      },
      "outputs": [],
      "source": [
        "def preprocess_text(text):\n",
        "    \"\"\"Clean text, remove stopwords, and lemmatize.\"\"\"\n",
        "    REPLACE_BY_SPACE_RE = re.compile(r'[/(){}\\[\\]\\|@,;]')\n",
        "    SYMBOLS_RE = re.compile(r'[^0-9a-z #+_]')\n",
        "    NUMBERS = re.compile(r'\\d+')\n",
        "    STOPWORDS = set(stopwords.words('english'))\n",
        "    lemmatizer = WordNetLemmatizer()\n",
        "\n",
        "    # Lowercase the text\n",
        "    text = text.lower()\n",
        "    text = REPLACE_BY_SPACE_RE.sub(' ', text)\n",
        "    text = SYMBOLS_RE.sub('', text)\n",
        "    text = NUMBERS.sub('', text)\n",
        "\n",
        "    # Remove stopwords and lemmatize\n",
        "    tokens = [word for word in text.split() if word not in STOPWORDS]\n",
        "    tokens = [lemmatizer.lemmatize(token) for token in tokens]\n",
        "\n",
        "    return tokens"
      ]
    },
    {
      "cell_type": "code",
      "execution_count": null,
      "metadata": {
        "colab": {
          "base_uri": "https://localhost:8080/"
        },
        "id": "ppKFYQonoW_4",
        "outputId": "064a1f39-5404-4bd2-f7bb-675a4912819b"
      },
      "outputs": [
        {
          "name": "stderr",
          "output_type": "stream",
          "text": [
            "\rProcessing batches:   0%|          | 0/92 [00:00<?, ?it/s]"
          ]
        },
        {
          "name": "stdout",
          "output_type": "stream",
          "text": [
            "Batch 0 translations:\n",
            "Original: তিন জন মেয়ে মানুষ আছে। এক জন দাড়িয়ে আছে আর দুই জন বসে আছে।\n",
            "Translated: There are three girls people.One is standing and two are sitting.\n",
            "------\n",
            "Original: অনেক মেয়ে মানুষ বসে আছে।\n",
            "Translated: Many girls are sitting.\n",
            "------\n",
            "Original: অনেক মানুষ একসাথে বসে কাজ করছে।\n",
            "Translated: Many people are working together.\n",
            "------\n",
            "Original: ছয় জন মানুষ দাড়িয়ে আছে।\n",
            "Translated: Six people are standing.\n",
            "------\n",
            "Original: এক জন মেয়ে মানুষ মাথায় ঘোমটা দিয়ে কাজ করছে। মাটিতে বিভিন্ন রঙের মসলা আছে।\n",
            "Translated: One girl is working with a sweat on the head.There are spices of different colors on the ground.\n",
            "------\n"
          ]
        },
        {
          "name": "stderr",
          "output_type": "stream",
          "text": [
            "\rProcessing batches:   1%|          | 1/92 [00:11<17:40, 11.65s/it]"
          ]
        },
        {
          "name": "stdout",
          "output_type": "stream",
          "text": [
            "Batch 100 translations:\n",
            "Original: একজন মহিলা মানুষ কাজ করছে।\n",
            "Translated: A female man is working.\n",
            "------\n",
            "Original: আলো ও আধারের মাঝে দুইজন মানুষ দেখা যাচ্ছে।\n",
            "Translated: Two people are seen in light and light.\n",
            "------\n",
            "Original: একজন বালিকা হাসছে।\n",
            "Translated: A girl is smiling.\n",
            "------\n",
            "Original: একজন পুরুষ মানুষ কাজ করছে।\n",
            "Translated: A male man is working.\n",
            "------\n",
            "Original: নয় জন পুরুষ মানুষ দাঁড়িয়ে আছে।\n",
            "Translated: Nine men are standing.\n",
            "------\n"
          ]
        },
        {
          "name": "stderr",
          "output_type": "stream",
          "text": [
            "\rProcessing batches:   2%|▏         | 2/92 [00:22<16:55, 11.28s/it]"
          ]
        },
        {
          "name": "stdout",
          "output_type": "stream",
          "text": [
            "Batch 200 translations:\n",
            "Original: একজন পুরুষ মানুষ দুইটি গরু নিয়ে হাঁটছে।\n",
            "Translated: A male man walks with two cows.\n",
            "------\n",
            "Original: একজন মানুষ সাকোর উপর দিয়ে হেঁটে যাচ্ছে। দূরে পাহাড় আছে।\n",
            "Translated: A man is walking over Sako.There are hills away.\n",
            "------\n",
            "Original: অনেকজন মানুষ আছে। একজন লাফ দিয়েছে।\n",
            "Translated: There are many people.One jumped.\n",
            "------\n",
            "Original: একজন পুরুষ মানুষ ও একজন মহিলা মানুস আছে।\n",
            "Translated: A man has a man and a female manus.\n",
            "------\n",
            "Original: অনেকগুলো মহিলা বসে কাজ করছে। চারদিকে অনেক লাল মরিচ আছে।\n",
            "Translated: Many women are sitting working.There are many red pepper all around.\n",
            "------\n"
          ]
        },
        {
          "name": "stderr",
          "output_type": "stream",
          "text": [
            "\rProcessing batches:   3%|▎         | 3/92 [00:34<17:06, 11.53s/it]"
          ]
        },
        {
          "name": "stdout",
          "output_type": "stream",
          "text": [
            "Batch 300 translations:\n",
            "Original: কয়েকজন মানুষ শুয়ে আছে ও একজন মানুষ বসে আছে।\n",
            "Translated: Some people are lying and a man is sitting.\n",
            "------\n",
            "Original: সমুদ্রের পাড়ে দুই জন মানুষ দাড়িয়ে আছে।\n",
            "Translated: Two people are standing on the sea.\n",
            "------\n",
            "Original: জলাশয় এর অনেকগুলো নৌকা আছে। মাটিতে অনেকগুলো মানুষ হেঁটে যাচ্ছে।\n",
            "Translated: There are many boats in the reservoir.Many people are walking on the ground.\n",
            "------\n",
            "Original: একজন নারী ও একজন শিশু দেখা যাচ্ছে।\n",
            "Translated: A woman and a child are seen.\n",
            "------\n",
            "Original: দুইটি পা, দুইটি হাত ও একটি বাটি দেখা যাচ্ছে। \n",
            "Translated: Two legs, two hands and a bowl are seen.\n",
            "------\n"
          ]
        },
        {
          "name": "stderr",
          "output_type": "stream",
          "text": [
            "\rProcessing batches:   4%|▍         | 4/92 [00:47<17:43, 12.08s/it]"
          ]
        },
        {
          "name": "stdout",
          "output_type": "stream",
          "text": [
            "Batch 400 translations:\n",
            "Original: রাস্তার উপর দিয়ে তিনটি ভ্যান গাড়ি যাচ্ছে।\n",
            "Translated: Three van cars are going on the road.\n",
            "------\n",
            "Original: একজন বালিকা মুখে হাত দিয়ে তাকিয়ে আছে।\n",
            "Translated: A girl looks at her face with her hands.\n",
            "------\n",
            "Original: একজন নারী বসে আছে ও একটি শিশু দাড়িয়ে আছে।\n",
            "Translated: A woman is sitting and a child is standing.\n",
            "------\n",
            "Original: একটি মসজিদে কয়েকজন মানুষ দেখা যাচ্ছে।\n",
            "Translated: A few people are seen in a mosque.\n",
            "------\n",
            "Original: ধানক্ষেতের পাশে একজন নারী কম্পিউটার চালাচ্ছে।\n",
            "Translated: A woman is running a computer next to the paddy field.\n",
            "------\n"
          ]
        },
        {
          "name": "stderr",
          "output_type": "stream",
          "text": [
            "\rProcessing batches:   5%|▌         | 5/92 [00:59<17:34, 12.12s/it]"
          ]
        },
        {
          "name": "stdout",
          "output_type": "stream",
          "text": [
            "Batch 500 translations:\n",
            "Original: অনেকগুলো মানুষ একসাথে নামাজ পরছে।\n",
            "Translated: Many people are praying together.\n",
            "------\n",
            "Original: সামনে দুইজন নারী ও পিছনে দুইজন পুরুষ কাজ করছে।\n",
            "Translated: Two women in front and two men in the back are working.\n",
            "------\n",
            "Original: একটি শিশু ও কয়েকটি পাখি দেখা যাচ্ছে।\n",
            "Translated: A child and a few birds are seen.\n",
            "------\n",
            "Original: রেললাইনের উপর একটি শিশু বসে আছে।\n",
            "Translated: A baby is sitting on the railway line.\n",
            "------\n",
            "Original: অনেকগুলো মানুষ দাড়িয়ে আছে।\n",
            "Translated: Many people are standing.\n",
            "------\n"
          ]
        },
        {
          "name": "stderr",
          "output_type": "stream",
          "text": [
            "\rProcessing batches:   7%|▋         | 6/92 [01:11<17:28, 12.19s/it]"
          ]
        },
        {
          "name": "stdout",
          "output_type": "stream",
          "text": [
            "Batch 600 translations:\n",
            "Original: চারজন পুরুষ ও একজন নারী দাড়িয়ে আছে।\n",
            "Translated: Four men and one woman stand.\n",
            "------\n",
            "Original: খালি শরীরে একজন পুরুষ আহাজারি করছে। পিছনে কয়েকজন মানুষ দারিয়ে আছে।\n",
            "Translated: A man on the empty body is shaking.There are a few people behind.\n",
            "------\n",
            "Original: পানিতে একজন বয়স্ক নারী হাঁটছে।\n",
            "Translated: An elderly woman is walking in the water.\n",
            "------\n",
            "Original: একজন মানুষ হেঁটে যাচ্ছে। মাটিতে একটি নৌকা আছে।\n",
            "Translated: A man is walking.There is a boat on the ground.\n",
            "------\n",
            "Original: নৌকাতে কয়েকজন মানুষ আছে। নৌকা থেকে দুইটি শিশু পানিতে লাফ দিচ্ছে।\n",
            "Translated: There are a few people on the boat.Two children from the boat are jumping into the water.\n",
            "------\n"
          ]
        },
        {
          "name": "stderr",
          "output_type": "stream",
          "text": [
            "\rProcessing batches:   8%|▊         | 7/92 [01:23<16:46, 11.84s/it]"
          ]
        },
        {
          "name": "stdout",
          "output_type": "stream",
          "text": [
            "Batch 700 translations:\n",
            "Original: নিচে একজন পুরুষ মানুষ ও উপরে একজন বৃদ্ধ মহিলা আছে।\n",
            "Translated: Below is a male man and an old woman above.\n",
            "------\n",
            "Original: একজন নারী একটি শিশু বসে আছে।\n",
            "Translated: A woman is sitting in a child.\n",
            "------\n",
            "Original: একজন নারীর শুধু মুখের অর্ধেক দেখা যাচ্ছে।\n",
            "Translated: A woman is just half seen in the face.\n",
            "------\n",
            "Original: একটি শিশু, একজন পুরুষ, একজন বালিকা ও একজন নারী আছে।\n",
            "Translated: There is a child, a man, a girl and a woman.\n",
            "------\n",
            "Original: একজন পুরুষ কাজ করছে।\n",
            "Translated: A man is working.\n",
            "------\n"
          ]
        },
        {
          "name": "stderr",
          "output_type": "stream",
          "text": [
            "\rProcessing batches:   9%|▊         | 8/92 [01:33<16:02, 11.46s/it]"
          ]
        },
        {
          "name": "stdout",
          "output_type": "stream",
          "text": [
            "Batch 800 translations:\n",
            "Original: একজন নারী বসে কাজ করছে।\n",
            "Translated: A woman is sitting working.\n",
            "------\n",
            "Original: একজন নারী, একজন পুরুষ ও চারটি শিশু আছে।\n",
            "Translated: There is a woman, a man and four children.\n",
            "------\n",
            "Original: সেনাবাহিনীর অনেকগুলো মানুষ আছে।\n",
            "Translated: There are many people in the army.\n",
            "------\n",
            "Original: একজন পুরুষ বসে আছে।\n",
            "Translated: A man is sitting.\n",
            "------\n",
            "Original: একজন পুরুষ বসে কাজ করছে। দুইটি ছাগল ও একটি গরু আছে।\n",
            "Translated: A man is sitting working.There are two goats and a cow.\n",
            "------\n"
          ]
        },
        {
          "name": "stderr",
          "output_type": "stream",
          "text": [
            "\rProcessing batches:  10%|▉         | 9/92 [01:44<15:44, 11.38s/it]"
          ]
        },
        {
          "name": "stdout",
          "output_type": "stream",
          "text": [
            "Batch 900 translations:\n",
            "Original: মাটির রাস্তা দিয়ে একজন মানুষ হেঁটে যাচ্ছে।\n",
            "Translated: A man is walking through the road.\n",
            "------\n",
            "Original: কয়েকজন মানুষ কাজ করছে।\n",
            "Translated: Some people are working.\n",
            "------\n",
            "Original: একজন নারী, একজন পুরুষ ও গরু আছে।\n",
            "Translated: There is a woman, a man and a cow.\n",
            "------\n",
            "Original: একজন পুরুষ ও একজন নারী বসে আছে।\n",
            "Translated: A man and a woman are sitting.\n",
            "------\n",
            "Original: নারী ও পুরুষ দাড়িয়ে আছে।\n",
            "Translated: Women and men are standing.\n",
            "------\n"
          ]
        },
        {
          "name": "stderr",
          "output_type": "stream",
          "text": [
            "\rProcessing batches:  11%|█         | 10/92 [01:56<15:50, 11.60s/it]"
          ]
        },
        {
          "name": "stdout",
          "output_type": "stream",
          "text": [
            "Batch 1000 translations:\n",
            "Original: একজন নারী, দুইজন বালিকা ও দুইজন পুরুষ দাড়িয়ে আছে।\n",
            "Translated: One woman, two girls and two men stand.\n",
            "------\n",
            "Original: মানুষ গুলো ব্যায়াম করছে।\n",
            "Translated: People are exercising.\n",
            "------\n",
            "Original: একজন নারী দাড়িয়ে আছে।\n",
            "Translated: A woman is standing.\n",
            "------\n",
            "Original: সামনে একজন নারী ও পিছনে একজন বালিকা পানি নিয়ে যাচ্ছে।\n",
            "Translated: A woman in front and a girl in the back are taking water.\n",
            "------\n",
            "Original: গলিতে মানুষজন চলাফেরা করছে।\n",
            "Translated: People are moving in the street.\n",
            "------\n"
          ]
        },
        {
          "name": "stderr",
          "output_type": "stream",
          "text": [
            "\rProcessing batches:  12%|█▏        | 11/92 [02:09<15:58, 11.83s/it]"
          ]
        },
        {
          "name": "stdout",
          "output_type": "stream",
          "text": [
            "Batch 1100 translations:\n",
            "Original: তিনজন মানুষ জলাশয়এ কাজ করছে।\n",
            "Translated: Three people are working in the reservoir.\n",
            "------\n",
            "Original: ফসলের মাঠে কয়েকজন নারী ও পুরুষ কাজ করছে।\n",
            "Translated: Some women and men are working on the field field.\n",
            "------\n",
            "Original: একজন বালক সাইকেল চালাচ্ছে।\n",
            "Translated: A boy is riding a bicycle.\n",
            "------\n",
            "Original: একটি শিশু একজন নারীকে জড়িয়ে ধরে আছে।\n",
            "Translated: A child hugs a woman.\n",
            "------\n",
            "Original: চশমা পরিহিত একজন নারী একটি শিশুর পাশে বসে আছে।\n",
            "Translated: A woman dressed in glasses is sitting next to a baby.\n",
            "------\n"
          ]
        },
        {
          "name": "stderr",
          "output_type": "stream",
          "text": [
            "\rProcessing batches:  13%|█▎        | 12/92 [02:21<15:54, 11.93s/it]"
          ]
        },
        {
          "name": "stdout",
          "output_type": "stream",
          "text": [
            "Batch 1200 translations:\n",
            "Original: একজন পুরুষ ও অনেকগুলো নারী বসে আছে।\n",
            "Translated: A man and many women are sitting.\n",
            "------\n",
            "Original: একজন নারী মাথায় পানি ঢালা হচ্ছে।\n",
            "Translated: A woman is pouring water on her head.\n",
            "------\n",
            "Original: একজন পুরুষ, অনেকগুলো নারী ও শিশু বসে আছে।\n",
            "Translated: A man, many women and children are sitting.\n",
            "------\n",
            "Original: তিনজন পুরুষ বসে আছে। ও কয়েকজন পুরুষ দাড়িয়ে আছে।\n",
            "Translated: Three men are sitting.He is standing some men.\n",
            "------\n",
            "Original: টুপি পরিহিত একজন বয়স্ক পুরুষ তাকিয়ে আছে।\n",
            "Translated: An elderly man dressed in hat is looking.\n",
            "------\n"
          ]
        },
        {
          "name": "stderr",
          "output_type": "stream",
          "text": [
            "\rProcessing batches:  14%|█▍        | 13/92 [02:33<15:49, 12.02s/it]"
          ]
        },
        {
          "name": "stdout",
          "output_type": "stream",
          "text": [
            "Batch 1300 translations:\n",
            "Original: বালু মাটির উপর চারজন বালক কাজ করছে। দূরে একজন মানুষ দাড়িয়ে আছে।\n",
            "Translated: Four boys are working on the sandy ground.A man is standing away.\n",
            "------\n",
            "Original: একজন নারী একটি গরু নিয়ে দাড়িয়ে আছে।\n",
            "Translated: A woman is standing with a cow.\n",
            "------\n",
            "Original: কয়েকজন বসে আছে। কয়েকজন দাড়িয়ে আছে।\n",
            "Translated: Some are sitting.Some are standing.\n",
            "------\n",
            "Original: দুইজন পুরুষ মাটির রাস্তা দিয়ে হেঁটে যাচ্ছে।\n",
            "Translated: Two men are walking through the ground.\n",
            "------\n",
            "Original: দুইজন পুরুষ কাজ করছে।\n",
            "Translated: Two men are working.\n",
            "------\n"
          ]
        },
        {
          "name": "stderr",
          "output_type": "stream",
          "text": [
            "\rProcessing batches:  15%|█▌        | 14/92 [02:45<15:27, 11.90s/it]"
          ]
        },
        {
          "name": "stdout",
          "output_type": "stream",
          "text": [
            "Batch 1400 translations:\n",
            "Original: দুইজন মেয়ে শিশু পাশাপাশি দুইজনকে ধরে আছে।\n",
            "Translated: Two girls are caught as well as two.\n",
            "------\n",
            "Original: চারজন মানুষ গান বাজনা করছে।\n",
            "Translated: Four people are playing music.\n",
            "------\n",
            "Original: গাছের ফাকে দুইজনকে দেখা যাচ্ছে।\n",
            "Translated: Two people are seen in the tree.\n",
            "------\n",
            "Original: কয়েকজন শিশু আছে।\n",
            "Translated: There are a few children.\n",
            "------\n",
            "Original: পানির ওপাশে একজন মানুষ দেখা যাচ্ছে।\n",
            "Translated: A man is seen around the water.\n",
            "------\n"
          ]
        },
        {
          "name": "stderr",
          "output_type": "stream",
          "text": [
            "\rProcessing batches:  16%|█▋        | 15/92 [02:56<14:59, 11.68s/it]"
          ]
        },
        {
          "name": "stdout",
          "output_type": "stream",
          "text": [
            "Batch 1500 translations:\n",
            "Original: তিনজন পুরুষ ও একজন নারী বসে আছে।\n",
            "Translated: Three men and a woman are sitting.\n",
            "------\n",
            "Original: সামনে একজন মেয়ে শিশু লাল শাড়ি পরে আছে। পিছনে অনেকগুলো নারী ও শিশু বসে আছে।\n",
            "Translated: A girl in front is wearing a red saree.There are many women and children sitting behind.\n",
            "------\n",
            "Original: একজন মানুষ ও অনেকগুলো শিশু দাড়িয়ে আছে।\n",
            "Translated: A man and many children are standing.\n",
            "------\n",
            "Original: একজন লুঙ্গি পরিহিত একজন পুরুষ কাজ করছে। পিছনে অনেকগুলো মানুষ আছে।\n",
            "Translated: A man dressed in a lungi is working.There are many people behind.\n",
            "------\n",
            "Original: অনেকগুলো পুরুষ ও দুইজন নারী বসে আছে।\n",
            "Translated: Many men and two women are sitting.\n",
            "------\n"
          ]
        },
        {
          "name": "stderr",
          "output_type": "stream",
          "text": [
            "\rProcessing batches:  17%|█▋        | 16/92 [03:08<14:50, 11.72s/it]"
          ]
        },
        {
          "name": "stdout",
          "output_type": "stream",
          "text": [
            "Batch 1600 translations:\n",
            "Original: শাড়ি পরিহিত একজন বৃদ্ধ নারী আছে। সামনে তিনটি শিশু আছে।\n",
            "Translated: There is an old woman dressed in sarees.There are three children in front.\n",
            "------\n",
            "Original: অনেকগুলো পুরুষ মাটিতে বসে আছে।\n",
            "Translated: Many men are sitting on the ground.\n",
            "------\n",
            "Original: পুলিশ সহ কয়েকজন পুরুষ আছে।\n",
            "Translated: There are a few men, including the police.\n",
            "------\n",
            "Original: অনেকগুলো পুরুষ লাইনে দাড়িয়ে আছে।\n",
            "Translated: Many men are standing in line.\n",
            "------\n",
            "Original: অনেকগুলো পুরুষ ও নারী বসে আছে।\n",
            "Translated: Many men and women are sitting.\n",
            "------\n"
          ]
        },
        {
          "name": "stderr",
          "output_type": "stream",
          "text": [
            "\rProcessing batches:  18%|█▊        | 17/92 [03:20<14:51, 11.88s/it]"
          ]
        },
        {
          "name": "stdout",
          "output_type": "stream",
          "text": [
            "Batch 1700 translations:\n",
            "Original: ফসলের মাঠের মধ্যে দিয়ে একজন বালিকা বই নিয়ে আসছে।\n",
            "Translated: A girl from the crop field is bringing the book.\n",
            "------\n",
            "Original: একজন পুরুষ মাথায় ক্যাপ ও চোখে চশমা পরে আছে।\n",
            "Translated: A man is wearing caps and glasses in his eyes.\n",
            "------\n",
            "Original: একজন মানুষের শুধু মাথা দেখা যাচ্ছে।\n",
            "Translated: A man's head is just visible.\n",
            "------\n",
            "Original: দুইজন পুরুষ দাড়িয়ে আছে। পাশে একজন প্রতিবন্ধী পুরুষ বসে আছে।\n",
            "Translated: Two men are standing.A disabled man is sitting next to him.\n",
            "------\n",
            "Original: দুইজন বালক মুখে রঙ মেখে আছে।\n",
            "Translated: Two boys are colored in the face.\n",
            "------\n"
          ]
        },
        {
          "name": "stderr",
          "output_type": "stream",
          "text": [
            "\rProcessing batches:  20%|█▉        | 18/92 [03:32<14:46, 11.98s/it]"
          ]
        },
        {
          "name": "stdout",
          "output_type": "stream",
          "text": [
            "Batch 1800 translations:\n",
            "Original: একজন নারী একটি শিশু কোলে নিয়ে আছে। পাশে একজন নারী ও একটি শিশু আছে।\n",
            "Translated: A woman is taken to a child.There is a woman and a child on the side.\n",
            "------\n",
            "Original: একজন পুরুষ সাইকেল চালাচ্ছে।\n",
            "Translated: A man is riding a bike.\n",
            "------\n",
            "Original: একজন নারী পানি দিচ্ছে।\n",
            "Translated: A woman is giving water.\n",
            "------\n",
            "Original: হুইল চেয়ারে একজন পুরুষ বসে আছে। পাশে একজন পুরুষ দাড়িয়ে আছে।\n",
            "Translated: A man is sitting on the wheel chair.A man is standing next to it.\n",
            "------\n",
            "Original: একজন মানুষ দাড়িয়ে আছে। তার সামনে একটি ঘর রয়েছে।\n",
            "Translated: A man is standing.There is a house in front of him.\n",
            "------\n"
          ]
        },
        {
          "name": "stderr",
          "output_type": "stream",
          "text": [
            "\rProcessing batches:  21%|██        | 19/92 [03:47<15:37, 12.84s/it]"
          ]
        },
        {
          "name": "stdout",
          "output_type": "stream",
          "text": [
            "Error during translation: the JSON object must be str, bytes or bytearray, not NoneType\n",
            "Batch 1900 translations:\n",
            "Original: অনেকগুলো মানুষ পাশাপাশি দারিয়ে আছে।\n",
            "Translated: \n",
            "------\n",
            "Original: চারটি মেয়ে শিশু দাড়িয়ে আছে।\n",
            "Translated: \n",
            "------\n",
            "Original: একজন নারী ও একজন পুরুষ হাত তুলে আছে। পাশে কয়েজন মানুষ আছে।\n",
            "Translated: \n",
            "------\n",
            "Original: একজন নারী ও দুইটি শিশু বসে আছে।\n",
            "Translated: \n",
            "------\n",
            "Original: একজন নারী শিশু কোলে নিয়ে আছে।\n",
            "Translated: \n",
            "------\n"
          ]
        },
        {
          "name": "stderr",
          "output_type": "stream",
          "text": [
            "\rProcessing batches:  22%|██▏       | 20/92 [03:55<13:36, 11.34s/it]"
          ]
        },
        {
          "name": "stdout",
          "output_type": "stream",
          "text": [
            "Error during translation: the JSON object must be str, bytes or bytearray, not NoneType\n",
            "Batch 2000 translations:\n",
            "Original: উপরে মেঘলা আকাশ নিচে সবুজ ঘাস, মাঠের মধ্যে পানি জমেছে আর তার পাড় ধরে হেঁটে যাচ্ছে একজন লোক।\n",
            "Translated: \n",
            "------\n",
            "Original: নববর্ষের উৎসবে কয়েকজন মিলে হাতে ঢোল গলায় ঝুলিয়ে, মুখোশ হাতে নিয়ে আনন্দ মিছিল করছে।\n",
            "Translated: \n",
            "------\n",
            "Original: মাটিতে আল্পনা আঁকা তার মধ্যে একটা লোক সঙ সেজে, মাথায় টুপি পড়ে, কাঁধে ঝুড়ি নিয়ে হেঁটে যাচ্ছে। \n",
            "Translated: \n",
            "------\n",
            "Original: কয়েকজন মহিলা, পুরুষ মিলে রাস্তায় আন্দোলন করেছে আর তার মধ্যে সামনের দুই তিন জনের মুখ রুমাল দিয়ে ঢেকে রেখেছে। \n",
            "Translated: \n",
            "------\n",
            "Original: একজন মহিলা লাল-সাদা শাড়ি ও হাতে চুরি পড়ে সবুজ ক্ষেতের পথ ধরে হেঁটে যাচ্ছে। \n",
            "Translated: \n",
            "------\n"
          ]
        },
        {
          "name": "stderr",
          "output_type": "stream",
          "text": [
            "\rProcessing batches:  23%|██▎       | 21/92 [04:04<12:33, 10.62s/it]"
          ]
        },
        {
          "name": "stdout",
          "output_type": "stream",
          "text": [
            "Error during translation: the JSON object must be str, bytes or bytearray, not NoneType\n",
            "Batch 2100 translations:\n",
            "Original: একটা লোক পানি থেকে জ্বালানি তেল ছেকে ছেকে আলাদা করছে।\n",
            "Translated: \n",
            "------\n",
            "Original: হলুদ পাঞ্জাবি, গলায় মাফলার দিয়ে একটা চশমা পরা লোক পাশের চারজনের সাথে হেঁসে কথা বলছে।\n",
            "Translated: \n",
            "------\n",
            "Original: বাংলাদেশের একজন প্রখ্যাত শিল্পী গিটার হাতে গান গাইছে আর পিছনে তার সহযোগীরা ভিবিন্ন বাদ্যযন্ত্র বাজাচ্ছে।\n",
            "Translated: \n",
            "------\n",
            "Original: পিছনে সবুজ ঘাস দেখা যাচ্ছে আর নদীতে একটা নৌকায় কয়েকজন লোক বসে আছে।\n",
            "Translated: \n",
            "------\n",
            "Original: একটা লোক একটা পাতিল ও পলো নিয়ে হাঁটু পানিতে নেমে মাছ ধরছে। \n",
            "Translated: \n",
            "------\n"
          ]
        },
        {
          "name": "stderr",
          "output_type": "stream",
          "text": [
            "\rProcessing batches:  24%|██▍       | 22/92 [04:12<11:19,  9.71s/it]"
          ]
        },
        {
          "name": "stdout",
          "output_type": "stream",
          "text": [
            "Error during translation: the JSON object must be str, bytes or bytearray, not NoneType\n",
            "Batch 2200 translations:\n",
            "Original: রাস্তায় পাঞ্জাবি পায়জামা পরা অনেক মুসলিম লোক হেঁটে যাচ্ছে আর তার ফলে অনেক গাড়ি যানজটের মধ্যে বসে আছে।\n",
            "Translated: \n",
            "------\n",
            "Original: কয়েকজন মহিলা মিলে বেগুনী শার্ট পরা একটা লোকের হাতে ফুলের তোরা তুলে দিচ্ছে। \n",
            "Translated: \n",
            "------\n",
            "Original: একটা লোক রাস্তার পাড়ে দাঁড়িয়ে সবুজ গাছপালা, ক্ষেত ও প্রকৃতির দৃশ্য অবলোকন করছে।\n",
            "Translated: \n",
            "------\n",
            "Original: দুইটা ছোট ছেলে একটা উঠোনের মধ্যে খেলছে , যাদের একজন ব্যাট করছে ও অন্যজন বল করছে।\n",
            "Translated: \n",
            "------\n",
            "Original: একটা লোক রঙ মাখা শার্ট ও মাথায় কালারিং চুল লাগিয়ে পিছন ফিরে আছে।\n",
            "Translated: \n",
            "------\n"
          ]
        },
        {
          "name": "stderr",
          "output_type": "stream",
          "text": [
            "\rProcessing batches:  25%|██▌       | 23/92 [04:20<10:54,  9.49s/it]"
          ]
        },
        {
          "name": "stdout",
          "output_type": "stream",
          "text": [
            "Error during translation: the JSON object must be str, bytes or bytearray, not NoneType\n",
            "Batch 2300 translations:\n",
            "Original: লাল-সাদা শাড়ি পরে কয়েকজন মেয়ে হাতে প্রদীপ নিয়ে মঞ্চে দাঁড়িয়ে নাচছে।\n",
            "Translated: \n",
            "------\n",
            "Original: একটা ছোট ছেলে হাতে একটা গুলতি নিয়ে আছে।\n",
            "Translated: \n",
            "------\n",
            "Original: নীল শাড়ি, হাতে চুড়ি, গলায় মালা ও মাথায় টায়রা পরে একটা মেয়ে দাঁড়িয়ে আছে।\n",
            "Translated: \n",
            "------\n",
            "Original: ছয়জন লোক বার্ডস ক্লাব অব বগুড়া লিখা একটা ব্যানার ধরে দাঁড়িয়ে আছে।\n",
            "Translated: \n",
            "------\n",
            "Original: সাদা শার্ট পরা লোকটা সবুজ শার্ট পরা লোকটাকে তার হাতে ধরা বাটিটাতে রাখা পোনা মাছ দেখাচ্ছে।\n",
            "Translated: \n",
            "------\n"
          ]
        },
        {
          "name": "stderr",
          "output_type": "stream",
          "text": [
            "\rProcessing batches:  26%|██▌       | 24/92 [04:29<10:19,  9.12s/it]"
          ]
        },
        {
          "name": "stdout",
          "output_type": "stream",
          "text": [
            "Error during translation: the JSON object must be str, bytes or bytearray, not NoneType\n",
            "Batch 2400 translations:\n",
            "Original: দুইজন বনরক্ষী হাতে বন্দুক নিয়ে বনের অপথ ধরে হেঁটে যাচ্ছে।\n",
            "Translated: \n",
            "------\n",
            "Original: কয়েকজন লোক ও একটা মেয়ে একটা সনদপত্র হাতে একসাথে দাঁড়িয়ে আছে।\n",
            "Translated: \n",
            "------\n",
            "Original: নববর্ষ উৎসবে চারজন ছেলে ও দুইজন মেয়ে একসাথে মঞ্চে দাঁড়িয়ে নাচছে। \n",
            "Translated: \n",
            "------\n",
            "Original: গেঞ্জি , প্যান্ট পরা একটা ছোট একটা গাছের গুড়ি ধরে ঝুলছে।\n",
            "Translated: \n",
            "------\n",
            "Original: শার্ট, প্যান্ট পরে একটা ছেলে নদীতে বাঁশ দিয়ে নৌকা বাইছে।\n",
            "Translated: \n",
            "------\n"
          ]
        },
        {
          "name": "stderr",
          "output_type": "stream",
          "text": [
            "\rProcessing batches:  27%|██▋       | 25/92 [04:37<09:51,  8.82s/it]"
          ]
        },
        {
          "name": "stdout",
          "output_type": "stream",
          "text": [
            "Error during translation: the JSON object must be str, bytes or bytearray, not NoneType\n",
            "Batch 2500 translations:\n",
            "Original: একটা ছেলে কাঁধে একটা ঝুড়ি বেঁধে কাদার পথ দিয়ে হেঁটে যাচ্ছে।\n",
            "Translated: \n",
            "------\n",
            "Original: একটা ছোট মেয়ে লাল শাড়ি পরে মঞ্চে দাঁড়িয়ে নাচ করছে।\n",
            "Translated: \n",
            "------\n",
            "Original: সবুজ টিশার্ট, নীল জিন্স পরা একটা লোক গাচ্ছের সাথে ডেলান দিয়ে বসে আছে।\n",
            "Translated: \n",
            "------\n",
            "Original: পাঞ্জাবি, পায়জামা,টুপি পরে কিছু লোক বসে আছে আর একজন মাইকের সামনে দাঁড়িয়ে কথা বলছে।\n",
            "Translated: \n",
            "------\n",
            "Original: দুইজন লোক রাতের বেলায় নদীর পাড়ে দাঁড়িয়ে আছে।\n",
            "Translated: \n",
            "------\n"
          ]
        },
        {
          "name": "stderr",
          "output_type": "stream",
          "text": [
            "\rProcessing batches:  28%|██▊       | 26/92 [04:46<09:42,  8.82s/it]"
          ]
        },
        {
          "name": "stdout",
          "output_type": "stream",
          "text": [
            "Error during translation: the JSON object must be str, bytes or bytearray, not NoneType\n",
            "Batch 2600 translations:\n",
            "Original: একজন বাবল ফুলানোর পানি বিক্রি করা লোক হাতে কয়েকটা রঙিন পানির বোতল নিয়ে দাঁড়িয়ে আছে। \n",
            "Translated: \n",
            "------\n",
            "Original: জানালার এইপাশে থেকে একটা বাচ্চা অন্য পাশের বাচ্চাটা হাতে উপর হাত রেখেছে।\n",
            "Translated: \n",
            "------\n",
            "Original: সাদা কাপড় পরা একজন বৃদ্ধ মহিলা দাঁড়িয়ে আছে।\n",
            "Translated: \n",
            "------\n",
            "Original: উপরে মেঘে ডাকা আকাশ,গাছের নিচে একটা ছেলে মোবাইল হাতে দাঁড়িয়ে আছে।\n",
            "Translated: \n",
            "------\n",
            "Original: লাল জামা পরা একটা ছোট ছেলে একটা নৌকা টেনে নিয়ে যাচ্ছে।\n",
            "Translated: \n",
            "------\n"
          ]
        },
        {
          "name": "stderr",
          "output_type": "stream",
          "text": [
            "\rProcessing batches:  29%|██▉       | 27/92 [04:53<09:10,  8.47s/it]"
          ]
        },
        {
          "name": "stdout",
          "output_type": "stream",
          "text": [
            "Batch 2700 translations:\n",
            "Original: নদীতে অনেক নৌকা চলছে, কেউ ঘুরে বেড়াচ্ছে আবার কেউ পানি থেকে পাথর তুলছে।\n",
            "Translated: Many boats are running in the river, some are walking around and some are lifting stones from the water.\n",
            "------\n",
            "Original: একজন পুরুষ ও কয়েকজন নারী আছে।\n",
            "Translated: There is a man and a few women.\n",
            "------\n",
            "Original: একজন মানুষ মুখ দিয়ে আগুন বের করছে।\n",
            "Translated: A man is setting fire through his mouth.\n",
            "------\n",
            "Original: একজন পুরুষ মাথায় সবজি ভর্তি ঝাঁকা নিয়ে আছে।\n",
            "Translated: A man is filled with vegetables on his head.\n",
            "------\n",
            "Original: একজন পুরুষ ও দুইজন নারী আছে।\n",
            "Translated: There is a man and two women.\n",
            "------\n"
          ]
        },
        {
          "name": "stderr",
          "output_type": "stream",
          "text": [
            "\rProcessing batches:  30%|███       | 28/92 [05:05<10:00,  9.38s/it]"
          ]
        },
        {
          "name": "stdout",
          "output_type": "stream",
          "text": [
            "Batch 2800 translations:\n",
            "Original: একসসাথে অনেকগুলো মানুষ বসে আছে। পিছনে তিনজন মানুষ দাড়িয়ে আছে।\n",
            "Translated: There are many people sitting together.Three people are standing behind.\n",
            "------\n",
            "Original: একটি নৌকায় দুইজন মানুষ আছে।\n",
            "Translated: There are two people in a boat.\n",
            "------\n",
            "Original: একটি শিশু তাকিয়ে আছে।\n",
            "Translated: A child is looking.\n",
            "------\n",
            "Original: একটি নৌকার উপর কয়েকজন মানুষ আছে।\n",
            "Translated: There are a few people on a boat.\n",
            "------\n",
            "Original: ছয়জন মানুষ আছে।\n",
            "Translated: There are six people.\n",
            "------\n"
          ]
        },
        {
          "name": "stderr",
          "output_type": "stream",
          "text": [
            "\rProcessing batches:  32%|███▏      | 29/92 [05:17<10:43, 10.22s/it]"
          ]
        },
        {
          "name": "stdout",
          "output_type": "stream",
          "text": [
            "Batch 2900 translations:\n",
            "Original: দুইজন পুরুষ দাড়িয়ে আছে।\n",
            "Translated: Two men are standing.\n",
            "------\n",
            "Original: একজন পুরুষ দাড়িয়ে আছে।\n",
            "Translated: A man is standing.\n",
            "------\n",
            "Original: একজন মানুষ ও কয়েকটি গরু আছে।\n",
            "Translated: There is a man and a few cows.\n",
            "------\n",
            "Original: একজন পুরুষ দাড়িয়ে দেয়ালে আঁকছে।\n",
            "Translated: A man is drawing on the wall.\n",
            "------\n",
            "Original: দুইটি শিশু আছে।\n",
            "Translated: There are two children.\n",
            "------\n"
          ]
        },
        {
          "name": "stderr",
          "output_type": "stream",
          "text": [
            "\rProcessing batches:  33%|███▎      | 30/92 [05:29<11:07, 10.76s/it]"
          ]
        },
        {
          "name": "stdout",
          "output_type": "stream",
          "text": [
            "Batch 3000 translations:\n",
            "Original: একজন পুরুষ দাড়িয়ে আছে। দেয়ালে অনেকগুলো ফটো আছে।\n",
            "Translated: A man is standing.There are many photos on the wall.\n",
            "------\n",
            "Original: একজন পুরুষ ও একজন নারী বসে লিখছে।\n",
            "Translated: A man and a woman are sitting writing.\n",
            "------\n",
            "Original: একটি শিশু মাথায় বোঝা নিয়ে যাচ্ছে।\n",
            "Translated: A child is carrying a burden on his head.\n",
            "------\n",
            "Original: একটি শিশু ছবি আঁকছে।\n",
            "Translated: A child is drawing the picture.\n",
            "------\n",
            "Original: একজন পুরুষ ও একজন নারী পাশাপাশি বসে আছে।\n",
            "Translated: A man and a woman are sitting side by side.\n",
            "------\n"
          ]
        },
        {
          "name": "stderr",
          "output_type": "stream",
          "text": [
            "\rProcessing batches:  34%|███▎      | 31/92 [05:41<11:15, 11.07s/it]"
          ]
        },
        {
          "name": "stdout",
          "output_type": "stream",
          "text": [
            "Batch 3100 translations:\n",
            "Original: একজন মানুষ মাছ মারছে। পাশে একটি শিশু দাড়িয়ে আছে।\n",
            "Translated: A man is fishing.There is a child standing on the side.\n",
            "------\n",
            "Original: ছয়জন বালিকা নৃত্য করছে।\n",
            "Translated: Six girls are dancing.\n",
            "------\n",
            "Original: পাঁচটি শিশু জলাশয়ের পার দিয়ে হেঁটে যাচ্ছে।\n",
            "Translated: Five children are walking through the reservoir.\n",
            "------\n",
            "Original: পাশাপাশি চারজন পুরুষ আছে।\n",
            "Translated: There are four men as well.\n",
            "------\n",
            "Original: একজন মানুষ সাইকেল চালিয়ে যাচ্ছে।\n",
            "Translated: A man is riding a bike.\n",
            "------\n"
          ]
        },
        {
          "name": "stderr",
          "output_type": "stream",
          "text": [
            "\rProcessing batches:  35%|███▍      | 32/92 [05:52<10:58, 10.97s/it]"
          ]
        },
        {
          "name": "stdout",
          "output_type": "stream",
          "text": [
            "Batch 3200 translations:\n",
            "Original: একটি শিশু গাছে ঝুলে আছে। দূরে একটি শিশু বসে আছে।\n",
            "Translated: A child is hanging on the tree.A child is sitting away.\n",
            "------\n",
            "Original: একটি নৌকায় একজন পুরুষ বসে আছে।\n",
            "Translated: A man is sitting in a boat.\n",
            "------\n",
            "Original: একসাথে অনেকগুলো মানুষ আছে।\n",
            "Translated: There are many people together.\n",
            "------\n",
            "Original: দুইজন মানুষ আছে।\n",
            "Translated: There are two people.\n",
            "------\n",
            "Original: সিঁড়িতে কয়েকজন মানুষ দেখা যাচ্ছে।\n",
            "Translated: A few people are seen on the stairs.\n",
            "------\n"
          ]
        },
        {
          "name": "stderr",
          "output_type": "stream",
          "text": [
            "\rProcessing batches:  36%|███▌      | 33/92 [06:02<10:35, 10.77s/it]"
          ]
        },
        {
          "name": "stdout",
          "output_type": "stream",
          "text": [
            "Batch 3300 translations:\n",
            "Original: পানিতে একজন পুরুষ ও একটি শিশু আছে।\n",
            "Translated: There is a man and a child in the water.\n",
            "------\n",
            "Original: একটি নৌকায় একজন মানুষ বসে আছে ও একজন মানুষ দাড়িয়ে আছে।\n",
            "Translated: A man is sitting in a boat and a man is standing.\n",
            "------\n",
            "Original: পানিতে দুইজন মেয়ে শিশু আছে।\n",
            "Translated: There are two girls in the water.\n",
            "------\n",
            "Original: পাশাপাশি দুইটি শিশু আছে।\n",
            "Translated: There are two children as well.\n",
            "------\n",
            "Original: একটি নৌকায় দুইজন মানুষ বসে আছে। একজন মানুষ দাড়িয়ে আছে।\n",
            "Translated: Two people are sitting in a boat.A man is standing.\n",
            "------\n"
          ]
        },
        {
          "name": "stderr",
          "output_type": "stream",
          "text": [
            "\rProcessing batches:  37%|███▋      | 34/92 [06:13<10:38, 11.01s/it]"
          ]
        },
        {
          "name": "stdout",
          "output_type": "stream",
          "text": [
            "Batch 3400 translations:\n",
            "Original: অনেকগুলো মানুষ আছে।\n",
            "Translated: There are many people.\n",
            "------\n",
            "Original: একজন নারী ও কয়েকজন পুরুষ আছে।\n",
            "Translated: There is a woman and a few men.\n",
            "------\n",
            "Original: একজন মানুষ দাড়িয়ে আছে। দূরে কয়েকজন মানুষ দেখা যাচ্ছে।\n",
            "Translated: A man is standing.A few people are seen far away.\n",
            "------\n",
            "Original: একটি শিশু কাজ করছে। দূরে অনেকগুলো মানুষ দেখা যাচ্ছে।\n",
            "Translated: A child is working.Many people are seen far away.\n",
            "------\n",
            "Original: দুইটি শিশু আছে।\n",
            "Translated: There are two children.\n",
            "------\n"
          ]
        },
        {
          "name": "stderr",
          "output_type": "stream",
          "text": [
            "\rProcessing batches:  38%|███▊      | 35/92 [06:25<10:36, 11.17s/it]"
          ]
        },
        {
          "name": "stdout",
          "output_type": "stream",
          "text": [
            "Batch 3500 translations:\n",
            "Original: তিনজন পুরুষ ও একজন নারী বসে আছে।\n",
            "Translated: Three men and a woman are sitting.\n",
            "------\n",
            "Original: তিনজন নারী ও অনেকগুলো পুরুষ একসাথে দাড়িয়ে আছে।\n",
            "Translated: Three women and many men are standing together.\n",
            "------\n",
            "Original: পাঁচজন পুরুষ পাশাপাশি দাড়িয়ে আছে।\n",
            "Translated: Five men are standing side by side.\n",
            "------\n",
            "Original: তিনজন মানুষ দেখা যাচ্ছে।\n",
            "Translated: Three people are seen.\n",
            "------\n",
            "Original: দুইজন মানুষ মাথায় বোঝা নিয়ে যাচ্ছে।\n",
            "Translated: Two people are carrying a burden on the head.\n",
            "------\n"
          ]
        },
        {
          "name": "stderr",
          "output_type": "stream",
          "text": [
            "\rProcessing batches:  39%|███▉      | 36/92 [06:37<10:39, 11.42s/it]"
          ]
        },
        {
          "name": "stdout",
          "output_type": "stream",
          "text": [
            "Batch 3600 translations:\n",
            "Original: একসাথে অনেকগুলো নারী ও পুরুষ আছে।\n",
            "Translated: There are many women and men together.\n",
            "------\n",
            "Original: সমুদ্রের পারে পাঁচজন মানুষ লাফ দিয়েছে।\n",
            "Translated: Five people jumped across the sea.\n",
            "------\n",
            "Original: একজন বালক ব্যাটিং করছে। আরেকজন বালক দাড়িয়ে আছে।\n",
            "Translated: A boy is batting.Another boy is standing.\n",
            "------\n",
            "Original: কয়েকজন পুরুষ পাশাপাশি দাড়িয়ে আছে।\n",
            "Translated: Some men are standing side by side.\n",
            "------\n",
            "Original: দুইজন পুরুষ ধান নিয়ে হেঁটে যাচ্ছে।\n",
            "Translated: Two men are walking with rice.\n",
            "------\n"
          ]
        },
        {
          "name": "stderr",
          "output_type": "stream",
          "text": [
            "\rProcessing batches:  40%|████      | 37/92 [06:49<10:32, 11.50s/it]"
          ]
        },
        {
          "name": "stdout",
          "output_type": "stream",
          "text": [
            "Batch 3700 translations:\n",
            "Original: একজন পুরুষ আছে।\n",
            "Translated: There is a man\n",
            "------\n",
            "Original: একজন পুরুষ দাড়িয়ে কথা বলছে। পিছনে কয়েকজন মানুষ আছে।\n",
            "Translated: A man is standing and talking.There are a few people behind.\n",
            "------\n",
            "Original: দুইজন মানুষ মোটরসাইকেলে যাচ্ছে। একজন মানুষ হেঁটে যাচ্ছে।\n",
            "Translated: Two people are going on a motorcycle.A man is walking.\n",
            "------\n",
            "Original: একজন পুরুষ ও একজন নারী দাড়িয়ে আছে।\n",
            "Translated: A man and a woman are standing.\n",
            "------\n",
            "Original: একজন নারী ও তিনটি শিশু আছে।\n",
            "Translated: There is a woman and three children.\n",
            "------\n"
          ]
        },
        {
          "name": "stderr",
          "output_type": "stream",
          "text": [
            "\rProcessing batches:  41%|████▏     | 38/92 [06:59<10:07, 11.25s/it]"
          ]
        },
        {
          "name": "stdout",
          "output_type": "stream",
          "text": [
            "Batch 3800 translations:\n",
            "Original: পাশাপাশি দুইজন পুরুষ আছে।\n",
            "Translated: There are two men as well.\n",
            "------\n",
            "Original: একজন পুরুষ আছে।\n",
            "Translated: There is a man\n",
            "------\n",
            "Original: শাড়ি পরিহিত দুইজন নারী নৃত্য করছে।\n",
            "Translated: Two women dressed in sarees are dancing.\n",
            "------\n",
            "Original: একটি মেয়ে শিশু তাকিয়ে আছে।\n",
            "Translated: A girl is looking at the child.\n",
            "------\n",
            "Original: একজন বালক বসে আছে।\n",
            "Translated: A boy is sitting.\n",
            "------\n"
          ]
        },
        {
          "name": "stderr",
          "output_type": "stream",
          "text": [
            "\rProcessing batches:  42%|████▏     | 39/92 [07:10<09:49, 11.12s/it]"
          ]
        },
        {
          "name": "stdout",
          "output_type": "stream",
          "text": [
            "Batch 3900 translations:\n",
            "Original: গাড়িতে করে কয়েকজন মানুষ যাচ্ছে।\n",
            "Translated: Some people are going by car.\n",
            "------\n",
            "Original: পানিতে একজন পুরুষ নৌকা চালিয়ে নিয়ে যাচ্ছে।\n",
            "Translated: A man is driving the boat in the water.\n",
            "------\n",
            "Original: একজন নারী কাটা ধান গাছ ধরে আছে।\n",
            "Translated: A woman is holding a cut paddy tree.\n",
            "------\n",
            "Original: দুইজন নারী একটি মোটরবাইকে করে যাচ্ছে। পাশে কয়েকজন মানুষ আছে।\n",
            "Translated: Two women are doing a motorbike.There are a few people on the side.\n",
            "------\n",
            "Original: পাশাপাশি তিনজন পুরুষ দাড়িয়ে আছে।\n",
            "Translated: There are three men standing as well.\n",
            "------\n"
          ]
        },
        {
          "name": "stderr",
          "output_type": "stream",
          "text": [
            "\rProcessing batches:  43%|████▎     | 40/92 [07:22<09:44, 11.25s/it]"
          ]
        },
        {
          "name": "stdout",
          "output_type": "stream",
          "text": [
            "Batch 4000 translations:\n",
            "Original: তিনজন পুরুষ আছে।\n",
            "Translated: There are three men.\n",
            "------\n",
            "Original: একজন বৃদ্ধ পুরুষ চা খাচ্ছে।\n",
            "Translated: An old man is drinking tea.\n",
            "------\n",
            "Original: একজন বৃদ্ধ পুরুষ তাকিয়ে আছে।\n",
            "Translated: An old man is looking at.\n",
            "------\n",
            "Original: একজন নারী বসে আছে। বিছানার উপর একজন পুরুষ শুয়ে আছে।\n",
            "Translated: A woman is sitting.A man is lying on the bed.\n",
            "------\n",
            "Original: একজন নারী দাড়িয়ে ও একজন নারী বসে আছে। পাশে দুইজন পুরুষ আছে।\n",
            "Translated: A woman is standing and a woman is sitting.There are two men on the side.\n",
            "------\n"
          ]
        },
        {
          "name": "stderr",
          "output_type": "stream",
          "text": [
            "\rProcessing batches:  45%|████▍     | 41/92 [07:34<09:48, 11.54s/it]"
          ]
        },
        {
          "name": "stdout",
          "output_type": "stream",
          "text": [
            "Batch 4100 translations:\n",
            "Original: একজন বয়স্ক পুরুষ ও একজন নারী আছে।\n",
            "Translated: There is an older man and an older woman.\n",
            "------\n",
            "Original: দুইজন মানুষ মাথাও উপর ছাতা দিয়ে অনেকগুলো গাছ গাছালির দিকে হেঁটে যাচ্ছে।\n",
            "Translated: Two people are walking towards the tree with umbrellas on their heads.\n",
            "------\n",
            "Original: একজন মানুষ পানিতে ঝাঁপ দিচ্ছে।\n",
            "Translated: A man is jumping into the water.\n",
            "------\n",
            "Original: একটি শিশু ঝাঁকার ভিতর বসে আছে।\n",
            "Translated: A child is sitting inside the shaking.\n",
            "------\n",
            "Original: একটি হরিণ ও একটি হরিণের বাচ্চা দাড়িয়ে আছে।\n",
            "Translated: A deer and a deer are standing.\n",
            "------\n"
          ]
        },
        {
          "name": "stderr",
          "output_type": "stream",
          "text": [
            "\rProcessing batches:  46%|████▌     | 42/92 [07:47<09:54, 11.88s/it]"
          ]
        },
        {
          "name": "stdout",
          "output_type": "stream",
          "text": [
            "Batch 4200 translations:\n",
            "Original: দূরে একজন মানুষ ও একটি বাড়ি দেখা যাচ্ছে।\n",
            "Translated: A man and a house are seen far away.\n",
            "------\n",
            "Original: একজন নারী মুখোস পড়ছে।\n",
            "Translated: A woman is reading mask.\n",
            "------\n",
            "Original: সব্জির দোকানে একজন পুরুষ বসে আছে।\n",
            "Translated: A man is sitting in the vegetable shop.\n",
            "------\n",
            "Original: জলাশয়ের পারে কয়েকটি শিশু দাড়িয়ে আছে।\n",
            "Translated: A few children are standing in the reservoir.\n",
            "------\n",
            "Original: হাসি মুখে একটি শিশু তাকিয়ে আছে।\n",
            "Translated: A child is looking in the face of smiles.\n",
            "------\n"
          ]
        },
        {
          "name": "stderr",
          "output_type": "stream",
          "text": [
            "\rProcessing batches:  47%|████▋     | 43/92 [07:58<09:40, 11.85s/it]"
          ]
        },
        {
          "name": "stdout",
          "output_type": "stream",
          "text": [
            "Batch 4300 translations:\n",
            "Original: একজন নারী ও তিনজন পুরুষ আছে।\n",
            "Translated: There is a woman and three men.\n",
            "------\n",
            "Original: চারজন পুরুষ পাশাপাশি দাড়িয়ে আছে।\n",
            "Translated: Four men are standing side by side.\n",
            "------\n",
            "Original: দুইজনের পা দেখা যাচ্ছে।\n",
            "Translated: Two legs are seen.\n",
            "------\n",
            "Original: চারজন পুরুষ পাশাপাশি দাড়িয়ে আছে।\n",
            "Translated: Four men are standing side by side.\n",
            "------\n",
            "Original: একজন নারী তাকিয়ে আছে।\n",
            "Translated: A woman is looking.\n",
            "------\n"
          ]
        },
        {
          "name": "stderr",
          "output_type": "stream",
          "text": [
            "\rProcessing batches:  48%|████▊     | 44/92 [08:09<09:11, 11.49s/it]"
          ]
        },
        {
          "name": "stdout",
          "output_type": "stream",
          "text": [
            "Batch 4400 translations:\n",
            "Original: একজন মাথার উপর ছাতা নিয়ে আছে।\n",
            "Translated: An umbrella on the head.\n",
            "------\n",
            "Original: একজন মানুষ দাড়িয়ে আছে।\n",
            "Translated: A man is standing.\n",
            "------\n",
            "Original: একজন নারী ও একটি মেয়ে শিশু পাশাপাশি আছে।\n",
            "Translated: There is a woman and a girl child as well.\n",
            "------\n",
            "Original: একজন বয়স্ক পুরুষ বসে লিখছে। পাশে কয়েকজন পুরুষ দাড়িয়ে আছে।\n",
            "Translated: An elderly man is sitting writing.A few men are standing on the side.\n",
            "------\n",
            "Original: একজন মানুষ দোলনায় বসে আছে। পিছনে আরেকজন মানুষ দোলনায় বসে আছে।\n",
            "Translated: A man is sitting in the rock.Another man is sitting in the back.\n",
            "------\n"
          ]
        },
        {
          "name": "stderr",
          "output_type": "stream",
          "text": [
            "\rProcessing batches:  49%|████▉     | 45/92 [08:20<08:51, 11.32s/it]"
          ]
        },
        {
          "name": "stdout",
          "output_type": "stream",
          "text": [
            "Batch 4500 translations:\n",
            "Original: রেললাইনের পাশে একজন পুরুষ দাঁড়িয়ে আছে।\n",
            "Translated: A man is standing next to the railway line.\n",
            "------\n",
            "Original: দুইজন পুরুষ পাশাপাশি দাড়িয়ে আছে।\n",
            "Translated: Two men are standing side by side.\n",
            "------\n",
            "Original: শাড়ি পরিহিত তিনজন নারী ও প্যান্ট, শার্ট পরিহিত দুইজন পুরুষ পাশাপাশি দাড়িয়ে আছে।\n",
            "Translated: Three women and pants wearing sarees, two men dressed in shirts are standing side by side.\n",
            "------\n",
            "Original: স্টেশন এ কয়েকজন মানুষ দেখা যাচ্ছে।\n",
            "Translated: A few people are seen at the station.\n",
            "------\n",
            "Original: একজন পুরুষ দেখা যাচ্ছে।\n",
            "Translated: A man is seen.\n",
            "------\n"
          ]
        },
        {
          "name": "stderr",
          "output_type": "stream",
          "text": [
            "\rProcessing batches:  50%|█████     | 46/92 [08:32<08:45, 11.43s/it]"
          ]
        },
        {
          "name": "stdout",
          "output_type": "stream",
          "text": [
            "Batch 4600 translations:\n",
            "Original: দুইজন পুরুষ পাশাপাশি আছে।\n",
            "Translated: There are two men side by side.\n",
            "------\n",
            "Original: একটি ছাগল আছে।\n",
            "Translated: Have a goat.\n",
            "------\n",
            "Original: রাতের আলোকোজ্জ্বল এলাকা দেখা যাচ্ছে।\n",
            "Translated: The bright area of ​​the night is visible.\n",
            "------\n",
            "Original: কয়েকজন পুরুষ ঝর্ণার পানিতে গোছল করছে।\n",
            "Translated: Some men are boiling in the fountain water.\n",
            "------\n",
            "Original: কয়েকটি খেলনা আছে।\n",
            "Translated: There are a few toys.\n",
            "------\n"
          ]
        },
        {
          "name": "stderr",
          "output_type": "stream",
          "text": [
            "\rProcessing batches:  51%|█████     | 47/92 [08:43<08:38, 11.51s/it]"
          ]
        },
        {
          "name": "stdout",
          "output_type": "stream",
          "text": [
            "Batch 4700 translations:\n",
            "Original: একটি মেয়ে শিশু খাবার খাচ্ছে।\n",
            "Translated: A girl is eating baby food.\n",
            "------\n",
            "Original: মাঠের পাশে কয়েকটি ভবন আছে।\n",
            "Translated: There are several buildings on the side of the field.\n",
            "------\n",
            "Original: এটি একটি পাহাড়।\n",
            "Translated: It's a hill.\n",
            "------\n",
            "Original: একটি ভবন আছে।\n",
            "Translated: Have a building.\n",
            "------\n",
            "Original: একটি একটি সব্জি বাজার। কয়েকজন মানুষ আছে।\n",
            "Translated: A vegetable market in a.There are a few people.\n",
            "------\n"
          ]
        },
        {
          "name": "stderr",
          "output_type": "stream",
          "text": [
            "\rProcessing batches:  52%|█████▏    | 48/92 [08:55<08:31, 11.63s/it]"
          ]
        },
        {
          "name": "stdout",
          "output_type": "stream",
          "text": [
            "Batch 4800 translations:\n",
            "Original: অনেকগুলো গাছ দেখা যাচ্ছে।\n",
            "Translated: Many trees are seen.\n",
            "------\n",
            "Original: অনেকগুলো পান আছে।\n",
            "Translated: There are many drinks.\n",
            "------\n",
            "Original: একটি রেলসেতু দেখা যাচ্ছে।\n",
            "Translated: A railway bridge is visible.\n",
            "------\n",
            "Original: একটি রাস্তার দুই পাশে অনেকগুলো গাছ আছে।\n",
            "Translated: There are many trees on either side of a road.\n",
            "------\n",
            "Original: কয়েকজন মানুষ আছে।\n",
            "Translated: There are a few people.\n",
            "------\n"
          ]
        },
        {
          "name": "stderr",
          "output_type": "stream",
          "text": [
            "\rProcessing batches:  53%|█████▎    | 49/92 [09:06<08:04, 11.28s/it]"
          ]
        },
        {
          "name": "stdout",
          "output_type": "stream",
          "text": [
            "Batch 4900 translations:\n",
            "Original: একটি সেতু আছে। চারপাশে ধানের ক্ষেত আছে।\n",
            "Translated: Have a bridge.There are paddy fields around.\n",
            "------\n",
            "Original: আকাশে মেঘ আছে। ভবন দেখা যাচ্ছে।\n",
            "Translated: There are clouds in the sky.The building is seen.\n",
            "------\n",
            "Original: কয়েকটি রেললাইন আছে।\n",
            "Translated: There are a few railways.\n",
            "------\n",
            "Original: একজন পুরুষ শুয়ে আছে।\n",
            "Translated: A man is lying down.\n",
            "------\n",
            "Original: তিনজন পুরুষ হাতে ফুলের স্তবক নিয়ে আছে। পিছনে অনেকগুলো পুরুষ আছে।\n",
            "Translated: Three men have flowers with flowers in their hands.There are many men behind.\n",
            "------\n"
          ]
        },
        {
          "name": "stderr",
          "output_type": "stream",
          "text": [
            "\rProcessing batches:  54%|█████▍    | 50/92 [09:16<07:41, 10.99s/it]"
          ]
        },
        {
          "name": "stdout",
          "output_type": "stream",
          "text": [
            "Batch 5000 translations:\n",
            "Original: একটি জলাশয় আছে।\n",
            "Translated: Have a reservoir.\n",
            "------\n",
            "Original: একজন পুরুষ বসে আছে।\n",
            "Translated: A man is sitting.\n",
            "------\n",
            "Original: অনেকগুলো মানুষের কোলাহল দেখা যাচ্ছে।\n",
            "Translated: The noise of many people is seen.\n",
            "------\n",
            "Original: কয়েক রকমের শুটকি মাছ আছে।\n",
            "Translated: There are some kind of dried fish.\n",
            "------\n",
            "Original: সরিষা ক্ষেতের পাশে কয়েকজন মানুষ আছে।\n",
            "Translated: There are a few people next to the mustard field.\n",
            "------\n"
          ]
        },
        {
          "name": "stderr",
          "output_type": "stream",
          "text": [
            "\rProcessing batches:  55%|█████▌    | 51/92 [09:27<07:35, 11.11s/it]"
          ]
        },
        {
          "name": "stdout",
          "output_type": "stream",
          "text": [
            "Batch 5100 translations:\n",
            "Original: নৌকায় একজন পুরুষ বসে বাঁশ ধরে আছে।\n",
            "Translated: A man on the boat is sitting on the bamboo.\n",
            "------\n",
            "Original: জানালা দিয়ে গাছ ও কয়েকটি ভবন দেখা যাচ্ছে।\n",
            "Translated: Trees and several buildings are visible through the windows.\n",
            "------\n",
            "Original: রাতের বেলা জলাশয়ের ওপাশে বিদ্যুতের বাতির আলো দেখা যাচ্ছে।\n",
            "Translated: At night, lightning lights are seen around the reservoir.\n",
            "------\n",
            "Original: একজন পুরুষ গোছল করছে।\n",
            "Translated: A man is shouting.\n",
            "------\n",
            "Original: রেললাইন ও টাওয়ার আছে।\n",
            "Translated: There are railways and towers.\n",
            "------\n"
          ]
        },
        {
          "name": "stderr",
          "output_type": "stream",
          "text": [
            "\rProcessing batches:  57%|█████▋    | 52/92 [09:39<07:30, 11.27s/it]"
          ]
        },
        {
          "name": "stdout",
          "output_type": "stream",
          "text": [
            "Batch 5200 translations:\n",
            "Original: এটি একটি তাল গাছ।\n",
            "Translated: It's a palm tree.\n",
            "------\n",
            "Original: জলাশয়ের ওপাশে পাহাড় আছে।\n",
            "Translated: There are mountains around the reservoir.\n",
            "------\n",
            "Original: কয়েকটি রেল লাইন ও একটি রেল গাড়ি আছে।\n",
            "Translated: There are a few rail lines and a rail car.\n",
            "------\n",
            "Original: তিনটি শিশু সামনে খাবার নিয়ে বসে আছে।\n",
            "Translated: Three children are sitting in front of food.\n",
            "------\n",
            "Original: কয়েকটি নৌকায় অনেকগুলো মানুষ আছে।\n",
            "Translated: There are many people in some boats.\n",
            "------\n"
          ]
        },
        {
          "name": "stderr",
          "output_type": "stream",
          "text": [
            "\rProcessing batches:  58%|█████▊    | 53/92 [09:51<07:23, 11.38s/it]"
          ]
        },
        {
          "name": "stdout",
          "output_type": "stream",
          "text": [
            "Batch 5300 translations:\n",
            "Original: পানিতে একজন মানুষ আছে। দূরে অনেকগুলো গাছ আছে।\n",
            "Translated: There is a man in the water.There are many trees away.\n",
            "------\n",
            "Original: রেল লাইন আছে। দূরে কয়েকজন মানুষ আছে।\n",
            "Translated: There are rail lines.There are a few people away.\n",
            "------\n",
            "Original: একজন পুরুষ ঝাঁটা দিয়ে ঝাড়ু দিচ্ছে। পিছনে অনেকগুলো মানুষ কাজ করছে।\n",
            "Translated: A man is swept through the jump.Many people are working behind.\n",
            "------\n",
            "Original: ধান ক্ষেত আছে।\n",
            "Translated: There are paddy fields.\n",
            "------\n",
            "Original: জমিতে তরমুজ আছে।\n",
            "Translated: There is watermelon on the ground.\n",
            "------\n"
          ]
        },
        {
          "name": "stderr",
          "output_type": "stream",
          "text": [
            "\rProcessing batches:  59%|█████▊    | 54/92 [10:01<07:03, 11.15s/it]"
          ]
        },
        {
          "name": "stdout",
          "output_type": "stream",
          "text": [
            "Batch 5400 translations:\n",
            "Original: মাঠে কয়েকজন মানুষ আছে। দূরে কয়েকটি ভবন আছে।\n",
            "Translated: There are a few people on the field.There are a few buildings away.\n",
            "------\n",
            "Original: কয়েকজন মানুষ আছে।\n",
            "Translated: There are a few people.\n",
            "------\n",
            "Original: একটি রাস্তার পাশে জলাশয় আছে।\n",
            "Translated: There is a reservoir on the side of a road.\n",
            "------\n",
            "Original: একজন পুরুষ শুয়ে আছে।\n",
            "Translated: A man is lying down.\n",
            "------\n",
            "Original: রাস্তা দিয়ে কয়েকজন মানুষ চলাচল করছে।\n",
            "Translated: Some people are moving by the road.\n",
            "------\n"
          ]
        },
        {
          "name": "stderr",
          "output_type": "stream",
          "text": [
            "\rProcessing batches:  60%|█████▉    | 55/92 [10:12<06:44, 10.92s/it]"
          ]
        },
        {
          "name": "stdout",
          "output_type": "stream",
          "text": [
            "Batch 5500 translations:\n",
            "Original: জলাশয় ও সূর্য আছে।\n",
            "Translated: There are water bodies and sun.\n",
            "------\n",
            "Original: তিনজন পুরুষ হেঁটে যাচ্ছে।\n",
            "Translated: Three men are walking.\n",
            "------\n",
            "Original: জলাশয়ে একটি নৌকা আছে।\n",
            "Translated: There is a boat in the reservoir.\n",
            "------\n",
            "Original: চারজন মানুষ আছে।\n",
            "Translated: There are four people.\n",
            "------\n",
            "Original: একটি শিশু আছে।\n",
            "Translated: Have a child.\n",
            "------\n"
          ]
        },
        {
          "name": "stderr",
          "output_type": "stream",
          "text": [
            "\rProcessing batches:  61%|██████    | 56/92 [10:23<06:34, 10.95s/it]"
          ]
        },
        {
          "name": "stdout",
          "output_type": "stream",
          "text": [
            "Batch 5600 translations:\n",
            "Original: কয়েকজন মানুষ আছে।\n",
            "Translated: There are a few people.\n",
            "------\n",
            "Original: একজন মানুষ আছে।\n",
            "Translated: There is a man\n",
            "------\n",
            "Original: দুইজন পুরুষ জমিতে ধানের চারা বুনছে।\n",
            "Translated: Two men are sowing paddy seedlings on the land.\n",
            "------\n",
            "Original: একজন পুরুষ হেঁটে যাচ্ছে।\n",
            "Translated: A man is walking.\n",
            "------\n",
            "Original: একটি পাখি আছে।\n",
            "Translated: Have a bird.\n",
            "------\n"
          ]
        },
        {
          "name": "stderr",
          "output_type": "stream",
          "text": [
            "\rProcessing batches:  62%|██████▏   | 57/92 [10:34<06:26, 11.03s/it]"
          ]
        },
        {
          "name": "stdout",
          "output_type": "stream",
          "text": [
            "Batch 5700 translations:\n",
            "Original: একটি শিশু বসে আছে।\n",
            "Translated: A child is sitting.\n",
            "------\n",
            "Original: একসাথে অনেকগুলো মানুষ বসে আছে।\n",
            "Translated: There are many people sitting together.\n",
            "------\n",
            "Original: দুইটি শিশু আছে।\n",
            "Translated: There are two children.\n",
            "------\n",
            "Original: একটি বানর ও একটি বানরের বাচ্চা আছে।\n",
            "Translated: There is a monkey and a monkey baby.\n",
            "------\n",
            "Original: কয়েকজন মানুষ আছে।\n",
            "Translated: There are a few people.\n",
            "------\n"
          ]
        },
        {
          "name": "stderr",
          "output_type": "stream",
          "text": [
            "\rProcessing batches:  63%|██████▎   | 58/92 [10:45<06:17, 11.11s/it]"
          ]
        },
        {
          "name": "stdout",
          "output_type": "stream",
          "text": [
            "Batch 5800 translations:\n",
            "Original: একজন মানুষ সাইকেল চালিয়ে আসছে।\n",
            "Translated: A man is riding a bike.\n",
            "------\n",
            "Original: একজন বৃদ্ধ নারী আছে।\n",
            "Translated: There is an old woman.\n",
            "------\n",
            "Original: একজন পুরুষ হেঁটে যাচ্ছে।\n",
            "Translated: A man is walking.\n",
            "------\n",
            "Original: একজন মানুষ মাইক নিয়ে যাচ্ছে।\n",
            "Translated: A man is taking Mike.\n",
            "------\n",
            "Original: দুইটি নৌকায় মানুষ আছে।\n",
            "Translated: There are people in two boats.\n",
            "------\n"
          ]
        },
        {
          "name": "stderr",
          "output_type": "stream",
          "text": [
            "\rProcessing batches:  64%|██████▍   | 59/92 [10:56<05:59, 10.90s/it]"
          ]
        },
        {
          "name": "stdout",
          "output_type": "stream",
          "text": [
            "Batch 5900 translations:\n",
            "Original: রাস্তার পাশে একজন পুরুষ বসে আছে।\n",
            "Translated: A man is sitting on the side of the road.\n",
            "------\n",
            "Original: একটি নৌকার উপর একজন নারী দাড়িয়ে আছে।\n",
            "Translated: A woman is standing on a boat.\n",
            "------\n",
            "Original: জলাশয়ের পারে একজন পুরুষ বসে আছে।\n",
            "Translated: A man is sitting in the reservoir.\n",
            "------\n",
            "Original: কয়েকজন মানুষ ফুটবল খেলছে।\n",
            "Translated: Some people are playing football.\n",
            "------\n",
            "Original: পানিতে একজন পুরুষ জাল দিয়ে মাছ ধরছে।\n",
            "Translated: A man in the water is fishing with nets.\n",
            "------\n"
          ]
        },
        {
          "name": "stderr",
          "output_type": "stream",
          "text": [
            "\rProcessing batches:  65%|██████▌   | 60/92 [11:06<05:42, 10.69s/it]"
          ]
        },
        {
          "name": "stdout",
          "output_type": "stream",
          "text": [
            "Batch 6000 translations:\n",
            "Original: পানিতে একজন পুরুষ দাড়িয়ে আছে।\n",
            "Translated: A man is standing in the water.\n",
            "------\n",
            "Original: একটি মোমবাতি ও দুইটি হাত আছে।\n",
            "Translated: There is a candle and two hands.\n",
            "------\n",
            "Original: একটি পাখি আছে।\n",
            "Translated: Have a bird.\n",
            "------\n",
            "Original: একজন পুরুষ আছে।\n",
            "Translated: There is a man\n",
            "------\n",
            "Original: একজন বালক তাকিয়ে আছে।\n",
            "Translated: A boy is looking.\n",
            "------\n"
          ]
        },
        {
          "name": "stderr",
          "output_type": "stream",
          "text": [
            "\rProcessing batches:  66%|██████▋   | 61/92 [11:17<05:34, 10.80s/it]"
          ]
        },
        {
          "name": "stdout",
          "output_type": "stream",
          "text": [
            "Batch 6100 translations:\n",
            "Original: একজন মানুষ দাড়িয়ে আছে।\n",
            "Translated: A man is standing.\n",
            "------\n",
            "Original: কয়েকজন মানুষ আছে।\n",
            "Translated: There are a few people.\n",
            "------\n",
            "Original: পানিতে একজন মানুষ ও নৌকা আছে।\n",
            "Translated: There is a man and a boat in the water.\n",
            "------\n",
            "Original: একজন পুরুষ দাড়িয়ে আছে।\n",
            "Translated: A man is standing.\n",
            "------\n",
            "Original: কয়েকজন মানুষ দেখা যাচ্ছে।\n",
            "Translated: Some people are seen.\n",
            "------\n"
          ]
        },
        {
          "name": "stderr",
          "output_type": "stream",
          "text": [
            "\rProcessing batches:  67%|██████▋   | 62/92 [11:28<05:30, 11.03s/it]"
          ]
        },
        {
          "name": "stdout",
          "output_type": "stream",
          "text": [
            "Batch 6200 translations:\n",
            "Original: সেতুর উপর অনেকগুলো মানুষ আছে।\n",
            "Translated: There are many people on the bridge.\n",
            "------\n",
            "Original: একটি নৌকার উপর একজন মানুষ আছে।\n",
            "Translated: There is a man on a boat.\n",
            "------\n",
            "Original: একটি শিশু জানালা দিয়ে তাকিয়ে আছে।\n",
            "Translated: A child is looking through the window.\n",
            "------\n",
            "Original: একজন পুরুষ আছে।\n",
            "Translated: There is a man\n",
            "------\n",
            "Original: একজন মানুষ মুখোস পরে আছে।\n",
            "Translated: A man is wearing masks.\n",
            "------\n"
          ]
        },
        {
          "name": "stderr",
          "output_type": "stream",
          "text": [
            "\rProcessing batches:  68%|██████▊   | 63/92 [11:40<05:21, 11.10s/it]"
          ]
        },
        {
          "name": "stdout",
          "output_type": "stream",
          "text": [
            "Batch 6300 translations:\n",
            "Original: সাতজন পুরুষ দাড়িয়ে একটি করে হাত তুলে আছে।\n",
            "Translated: Seven men stand up and raise one hand.\n",
            "------\n",
            "Original: একটি হাতি ও অনেকগুলো মানুষ আছে।\n",
            "Translated: There are an elephant and many people.\n",
            "------\n",
            "Original: একজন পুরুষ নৌকা চালাচ্ছে।\n",
            "Translated: A man is riding a boat.\n",
            "------\n",
            "Original: একজন বৃদ্ধ পুরুষ হেঁটে আসছে।\n",
            "Translated: An old man is walking.\n",
            "------\n",
            "Original: একটি শিশু হাত তুলে আছে।\n",
            "Translated: A child is raised.\n",
            "------\n"
          ]
        },
        {
          "name": "stderr",
          "output_type": "stream",
          "text": [
            "\rProcessing batches:  70%|██████▉   | 64/92 [11:50<05:07, 10.99s/it]"
          ]
        },
        {
          "name": "stdout",
          "output_type": "stream",
          "text": [
            "Batch 6400 translations:\n",
            "Original: সরিষা ক্ষেতে তিনজন শিশু আছে।\n",
            "Translated: There are three children in the mustard field.\n",
            "------\n",
            "Original: একজন মানুষ হেঁটে যাচ্ছে।\n",
            "Translated: A man is walking.\n",
            "------\n",
            "Original: একজন পুরুষ দাড়িয়ে আছে।\n",
            "Translated: A man is standing.\n",
            "------\n",
            "Original: চারটি শিশু পাশাপাশি দাঁড়িয়ে আছে।\n",
            "Translated: Four children are standing side by side.\n",
            "------\n",
            "Original: দুইটি শিশু ও একটি কুকুর আছে।\n",
            "Translated: There are two children and a dog.\n",
            "------\n"
          ]
        },
        {
          "name": "stderr",
          "output_type": "stream",
          "text": [
            "\rProcessing batches:  71%|███████   | 65/92 [12:01<04:56, 10.98s/it]"
          ]
        },
        {
          "name": "stdout",
          "output_type": "stream",
          "text": [
            "Batch 6500 translations:\n",
            "Original: তিনটি শিশু আছে।\n",
            "Translated: There are three children.\n",
            "------\n",
            "Original: একটি নৌকার উপর দুইজন মানুষ আছে।\n",
            "Translated: There are two people on a boat.\n",
            "------\n",
            "Original: একজন পুরুষ ধান ক্ষেতের মাঝ দিয়ে হেঁটে আসছে।\n",
            "Translated: A male is walking through the paddy field.\n",
            "------\n",
            "Original: একটি শিশু হেঁটে আসছে।\n",
            "Translated: A child is walking.\n",
            "------\n",
            "Original: একসাথে কয়েকজন পুরুষ আছে।\n",
            "Translated: There are a few men together.\n",
            "------\n"
          ]
        },
        {
          "name": "stderr",
          "output_type": "stream",
          "text": [
            "\rProcessing batches:  72%|███████▏  | 66/92 [12:13<04:50, 11.17s/it]"
          ]
        },
        {
          "name": "stdout",
          "output_type": "stream",
          "text": [
            "Batch 6600 translations:\n",
            "Original: কয়েকজন মানুষ ও কয়েকটি গরু আছে।\n",
            "Translated: There are a few people and a few cows.\n",
            "------\n",
            "Original: নৌকা, লঞ্চ ও মানুষ আছে।\n",
            "Translated: There are boats, launches and people.\n",
            "------\n",
            "Original: বৃষ্টিতে একজন পুরুষ রিক্সা চালিয়ে যাচ্ছে।\n",
            "Translated: In the rain, a male rickshaw continues.\n",
            "------\n",
            "Original: চারটি শিশু আছে।\n",
            "Translated: There are four children.\n",
            "------\n",
            "Original: চশমা পরে তিনজন পুরুষ দাড়িয়ে আছে।\n",
            "Translated: Three men are standing after glasses.\n",
            "------\n"
          ]
        },
        {
          "name": "stderr",
          "output_type": "stream",
          "text": [
            "\rProcessing batches:  73%|███████▎  | 67/92 [12:25<04:41, 11.25s/it]"
          ]
        },
        {
          "name": "stdout",
          "output_type": "stream",
          "text": [
            "Batch 6700 translations:\n",
            "Original: একজন পুরুষ মোবাইলে কথা বলছে।\n",
            "Translated: A man is talking on mobile.\n",
            "------\n",
            "Original: একজন নারী কাজ করছে।\n",
            "Translated: A woman is working.\n",
            "------\n",
            "Original: পানিতে কয়েকজন মানুষ কাজ করছে।\n",
            "Translated: Some people are working in the water.\n",
            "------\n",
            "Original: একজন পুরুষ বসে আছে।\n",
            "Translated: A man is sitting.\n",
            "------\n",
            "Original: পানিতে কয়েকজন মানুষ আছে।\n",
            "Translated: There are a few people in the water.\n",
            "------\n"
          ]
        },
        {
          "name": "stderr",
          "output_type": "stream",
          "text": [
            "\rProcessing batches:  74%|███████▍  | 68/92 [12:35<04:25, 11.06s/it]"
          ]
        },
        {
          "name": "stdout",
          "output_type": "stream",
          "text": [
            "Batch 6800 translations:\n",
            "Original: চারজন শিশু আছে।\n",
            "Translated: There are four children.\n",
            "------\n",
            "Original: একজন বৃদ্ধ নারী ধূমপান করছে।\n",
            "Translated: An old woman is smoking.\n",
            "------\n",
            "Original: একটি নৌকায় একজন মানুষ বসে আছে।\n",
            "Translated: A man is sitting in a boat.\n",
            "------\n",
            "Original: দুইজন মানুষ আছে।\n",
            "Translated: There are two people.\n",
            "------\n",
            "Original: শাড়ি পরিহিত একজন নারী বসে আছে।\n",
            "Translated: A woman wearing a saree is sitting.\n",
            "------\n"
          ]
        },
        {
          "name": "stderr",
          "output_type": "stream",
          "text": [
            "\rProcessing batches:  75%|███████▌  | 69/92 [12:45<04:08, 10.82s/it]"
          ]
        },
        {
          "name": "stdout",
          "output_type": "stream",
          "text": [
            "Batch 6900 translations:\n",
            "Original: সামনে আগুন নিয়ে কয়েকজন মানুষ বসে আছে।\n",
            "Translated: Some people are sitting in front of the fire.\n",
            "------\n",
            "Original: একজন পুরুষ নামাজ পড়ছে।\n",
            "Translated: A man is praying.\n",
            "------\n",
            "Original: নৌকার উপর একজন বালক বসে আছে।\n",
            "Translated: A boy is sitting on the boat.\n",
            "------\n",
            "Original: পাশাপাশি দুইটি নৌকায় কয়েকজন মানুষ আছে।\n",
            "Translated: There are a few people in the two boats as well.\n",
            "------\n",
            "Original: একজন বালক উপরে লাফ দিয়েছে।\n",
            "Translated: A boy jumps up.\n",
            "------\n"
          ]
        },
        {
          "name": "stderr",
          "output_type": "stream",
          "text": [
            "\rProcessing batches:  76%|███████▌  | 70/92 [12:57<04:00, 10.91s/it]"
          ]
        },
        {
          "name": "stdout",
          "output_type": "stream",
          "text": [
            "Batch 7000 translations:\n",
            "Original: পাশাপাশি চারজন ছেলে মানুষ বসে আছে।\n",
            "Translated: Four boys are sitting on the side.\n",
            "------\n",
            "Original: ফসলের ক্ষেতে একজন মানুষ আছে।\n",
            "Translated: There is a man in the crop field.\n",
            "------\n",
            "Original: দুইজন পুরুষ দুইজনকে ধরে আছে।\n",
            "Translated: Two men are holding two men.\n",
            "------\n",
            "Original: একজন নারী বসে তাকিয়ে আছে।\n",
            "Translated: A woman is sitting and looking.\n",
            "------\n",
            "Original: চারজন বয়স্ক মানুষ বসে আছে।\n",
            "Translated: Four old people are sitting.\n",
            "------\n"
          ]
        },
        {
          "name": "stderr",
          "output_type": "stream",
          "text": [
            "\rProcessing batches:  77%|███████▋  | 71/92 [13:08<03:53, 11.12s/it]"
          ]
        },
        {
          "name": "stdout",
          "output_type": "stream",
          "text": [
            "Batch 7100 translations:\n",
            "Original: দুইজন পুরুষ ও একজন নারী আছে।\n",
            "Translated: There are two men and a woman.\n",
            "------\n",
            "Original: তিনজন পুরুষ আছে। পিছনে অনেকগুলো মানুষ আছে।\n",
            "Translated: There are three men.There are many people behind.\n",
            "------\n",
            "Original: একজন নারী আছে।\n",
            "Translated: There is a woman.\n",
            "------\n",
            "Original: কয়েকজন পুরুষ পাশাপাশি দাড়িয়ে নামাজ পড়ছে।\n",
            "Translated: Some men are standing side by side.\n",
            "------\n",
            "Original: কয়েকজন নারী ও পুরুষ পাশাপাশি বসে আছে।\n",
            "Translated: Some women and men are sitting side by side.\n",
            "------\n"
          ]
        },
        {
          "name": "stderr",
          "output_type": "stream",
          "text": [
            "\rProcessing batches:  78%|███████▊  | 72/92 [13:20<03:44, 11.24s/it]"
          ]
        },
        {
          "name": "stdout",
          "output_type": "stream",
          "text": [
            "Batch 7200 translations:\n",
            "Original: অনেকগুলো মানুষ দেখা যাচ্ছে।\n",
            "Translated: Many people are seen.\n",
            "------\n",
            "Original: একজন নারী আছে।\n",
            "Translated: There is a woman.\n",
            "------\n",
            "Original: একটি নৌকার উপর একজন মানুষ বসে আছে।\n",
            "Translated: A man is sitting on a boat.\n",
            "------\n",
            "Original: একটি শিশু দাড়িয়ে আছে।\n",
            "Translated: A child is standing.\n",
            "------\n",
            "Original: একজন নারী ও একটি শিশু আছে।\n",
            "Translated: There is a woman and a child.\n",
            "------\n"
          ]
        },
        {
          "name": "stderr",
          "output_type": "stream",
          "text": [
            "\rProcessing batches:  79%|███████▉  | 73/92 [13:30<03:26, 10.88s/it]"
          ]
        },
        {
          "name": "stdout",
          "output_type": "stream",
          "text": [
            "Batch 7300 translations:\n",
            "Original: একটি নৌকার উপর একজন পুরুষ দাড়িয়ে আছে।\n",
            "Translated: A man is standing on a boat.\n",
            "------\n",
            "Original: একজন পুরুষ নৌকা চালাচ্ছে।\n",
            "Translated: A man is riding a boat.\n",
            "------\n",
            "Original: দুইজন মানুষ বসে আছে।\n",
            "Translated: Two people are sitting.\n",
            "------\n",
            "Original: একটি নৌকার উপর দুইজন মানুষ দাড়িয়ে আছে।\n",
            "Translated: Two people are standing on a boat.\n",
            "------\n",
            "Original: একজন মানুষ আছে।\n",
            "Translated: There is a man\n",
            "------\n"
          ]
        },
        {
          "name": "stderr",
          "output_type": "stream",
          "text": [
            "\rProcessing batches:  80%|████████  | 74/92 [13:40<03:12, 10.70s/it]"
          ]
        },
        {
          "name": "stdout",
          "output_type": "stream",
          "text": [
            "Batch 7400 translations:\n",
            "Original: দুইজন পুরুষ দাড়িয়ে গীটার বাজাচ্ছে। একজন পুরুষ দাড়িয়ে কী বোর্ড বাজাচ্ছে।\n",
            "Translated: Two men are standing and playing the guitar.A man is standing playing the key board.\n",
            "------\n",
            "Original: অনেকগুলো মানুষ সিজদা করেছে।\n",
            "Translated: Many people have prostrated.\n",
            "------\n",
            "Original: খালি গায়ে একজন পুরুষ দাড়িয়ে আছে। পিছনে অনেকগুলো মানুষ আছে।\n",
            "Translated: There is a man standing on the empty.There are many people behind.\n",
            "------\n",
            "Original: একটি শিশু পতাকা হাতে দাঁড়িয়ে আছে।\n",
            "Translated: A child is standing in the flag.\n",
            "------\n",
            "Original: সমুদ্রের পারে অনেকগুলো মানুষ মিলে একজন মানুষকে উপরে ছেড়েছে।\n",
            "Translated: Many people have left a man on the sea.\n",
            "------\n"
          ]
        },
        {
          "name": "stderr",
          "output_type": "stream",
          "text": [
            "\rProcessing batches:  82%|████████▏ | 75/92 [13:52<03:07, 11.03s/it]"
          ]
        },
        {
          "name": "stdout",
          "output_type": "stream",
          "text": [
            "Batch 7500 translations:\n",
            "Original: একজন মানুষ ও একটি শিশু আছে।\n",
            "Translated: There is a man and a child.\n",
            "------\n",
            "Original: একজন বৃদ্ধ পুরুষ বসে আছে।\n",
            "Translated: An old man is sitting.\n",
            "------\n",
            "Original: দুইজন নারী হেঁটে আসছে।\n",
            "Translated: Two women are walking.\n",
            "------\n",
            "Original: একজন বৃদ্ধ নারী বসে আছে। পিছনে কয়েকজন মানুষ আছে।\n",
            "Translated: An old woman is sitting.There are a few people behind.\n",
            "------\n",
            "Original: পানিতে একজন নারী ও একজন বালক মাছ মারছে।\n",
            "Translated: A woman and a boy are fishing in the water.\n",
            "------\n"
          ]
        },
        {
          "name": "stderr",
          "output_type": "stream",
          "text": [
            "\rProcessing batches:  83%|████████▎ | 76/92 [14:04<03:00, 11.28s/it]"
          ]
        },
        {
          "name": "stdout",
          "output_type": "stream",
          "text": [
            "Batch 7600 translations:\n",
            "Original: ধান ক্ষেতের ওপাশে অনেকগুলো গাছ আছে।\n",
            "Translated: There are many trees around the paddy field.\n",
            "------\n",
            "Original: ভবনের ছাদে একজন মানুষ দাড়িয়ে আছে।\n",
            "Translated: A man is standing on the roof of the building.\n",
            "------\n",
            "Original: কয়েকজন মানুষ আছে।\n",
            "Translated: There are a few people.\n",
            "------\n",
            "Original: দুইজন মানুষ আছে।\n",
            "Translated: There are two people.\n",
            "------\n",
            "Original: একটি শিশু চাকা দিয়ে খেলছে।\n",
            "Translated: A child is playing with the wheel.\n",
            "------\n"
          ]
        },
        {
          "name": "stderr",
          "output_type": "stream",
          "text": [
            "\rProcessing batches:  84%|████████▎ | 77/92 [14:15<02:50, 11.38s/it]"
          ]
        },
        {
          "name": "stdout",
          "output_type": "stream",
          "text": [
            "Batch 7700 translations:\n",
            "Original: সমুদ্রের পানিতে একজন পুরুষ কাজ করছে।\n",
            "Translated: A man is working in the sea water.\n",
            "------\n",
            "Original: একটি ছেলে শিশু বসে আছে।\n",
            "Translated: A boy is sitting in the baby.\n",
            "------\n",
            "Original: চারজন পুরুষ মাথায় ইট বহন করছে।\n",
            "Translated: Four men carry bricks on the head.\n",
            "------\n",
            "Original: শহীদ মিনারের সামনে পাঁচজন পুরুষ দাড়িয়ে আছে।\n",
            "Translated: Five men are standing in front of the Shaheed Minar.\n",
            "------\n",
            "Original: দুইটি শিশু বসে আছে।\n",
            "Translated: Two children are sitting.\n",
            "------\n"
          ]
        },
        {
          "name": "stderr",
          "output_type": "stream",
          "text": [
            "\rProcessing batches:  85%|████████▍ | 78/92 [14:26<02:35, 11.09s/it]"
          ]
        },
        {
          "name": "stdout",
          "output_type": "stream",
          "text": [
            "Batch 7800 translations:\n",
            "Original: একজন মানুষ আছে।\n",
            "Translated: There is a man\n",
            "------\n",
            "Original: একজন নারী মাথায় মাটি বহন করছে। পিছনে কয়েকজন মানুষ আছে।\n",
            "Translated: A woman is carrying the soil on her head.There are a few people behind.\n",
            "------\n",
            "Original: একজন পুরুষ মুখে নিয়ে আছে। পাশে একজন পুরুষ ধূমপান করছে।\n",
            "Translated: A man is in the mouth.A man on the side is smoking.\n",
            "------\n",
            "Original: একজন পুরুষ মাটি ফেলছে। দূরে একজন পুরুষ দাড়িয়ে আছে।\n",
            "Translated: A man is throwing the soil.A man is standing away.\n",
            "------\n",
            "Original: পানিতে অনেকগুলো মহিষ ও একজন মানুষ আছে।\n",
            "Translated: There are many buffaloes and a man in the water.\n",
            "------\n"
          ]
        },
        {
          "name": "stderr",
          "output_type": "stream",
          "text": [
            "\rProcessing batches:  86%|████████▌ | 79/92 [14:36<02:21, 10.85s/it]"
          ]
        },
        {
          "name": "stdout",
          "output_type": "stream",
          "text": [
            "Batch 7900 translations:\n",
            "Original: একটি শিশু আছে।\n",
            "Translated: Have a child.\n",
            "------\n",
            "Original: একজন পুরুষ হেঁটে যাচ্ছে। একজন নারী ও একজন পাশাপাশি বসে আছে।\n",
            "Translated: A man is walking.A woman and one sitting side by side.\n",
            "------\n",
            "Original: দুইটি মেয়ে শিশু হাসছে।\n",
            "Translated: Two girls are smiling.\n",
            "------\n",
            "Original: একটি ছেলে ও একটি মেয়ে আছে।\n",
            "Translated: Have a boy and a daughter.\n",
            "------\n",
            "Original: একজন পুরুষ জাল ঠিক করছে।\n",
            "Translated: A man is fixing the net.\n",
            "------\n"
          ]
        },
        {
          "name": "stderr",
          "output_type": "stream",
          "text": [
            "\rProcessing batches:  87%|████████▋ | 80/92 [14:47<02:12, 11.06s/it]"
          ]
        },
        {
          "name": "stdout",
          "output_type": "stream",
          "text": [
            "Batch 8000 translations:\n",
            "Original: বাজারে অনেকগুলো মানুষ আছে।\n",
            "Translated: There are many people in the market.\n",
            "------\n",
            "Original: একজন পুরুষ একটি নৌকা চালাচ্ছে।\n",
            "Translated: A man is running a boat.\n",
            "------\n",
            "Original: একজন পুরুষ একটি শিশুকে ঘারে বসিয়েছে।\n",
            "Translated: A man has put a baby in the house.\n",
            "------\n",
            "Original: একটি নৌকায় একজন মানুষ আছে।\n",
            "Translated: There is a man on a boat.\n",
            "------\n",
            "Original: দুইটি শিশু তাকিয়ে আছে।\n",
            "Translated: Two children are looking.\n",
            "------\n"
          ]
        },
        {
          "name": "stderr",
          "output_type": "stream",
          "text": [
            "\rProcessing batches:  88%|████████▊ | 81/92 [14:59<02:03, 11.18s/it]"
          ]
        },
        {
          "name": "stdout",
          "output_type": "stream",
          "text": [
            "Batch 8100 translations:\n",
            "Original: চারজন নারী আছে।\n",
            "Translated: There are four women.\n",
            "------\n",
            "Original: মাথার উপর ঝাঁকা নিয়ে একজন পুরুষ হাসছে।\n",
            "Translated: A man is smiling with shaking his head.\n",
            "------\n",
            "Original: একজন মানুষ শুয়ে আছে। পাশ দিয়ে একজন পুরুষ হেঁটে যাচ্ছে।\n",
            "Translated: A man is lying down.A man is walking by side.\n",
            "------\n",
            "Original: চারজন মানুষ আছে।\n",
            "Translated: There are four people.\n",
            "------\n",
            "Original: কয়েকজন মানুষ বসে আছে। কয়েকজন মানুষ দাড়িয়ে আছে।\n",
            "Translated: Some people are sitting.Some people are standing.\n",
            "------\n"
          ]
        },
        {
          "name": "stderr",
          "output_type": "stream",
          "text": [
            "\rProcessing batches:  89%|████████▉ | 82/92 [15:13<02:01, 12.18s/it]"
          ]
        },
        {
          "name": "stdout",
          "output_type": "stream",
          "text": [
            "Batch 8200 translations:\n",
            "Original: একজন পুরুষ সাইকেল চালিয়ে যাচ্ছে।\n",
            "Translated: A man is riding a bike.\n",
            "------\n",
            "Original: দুইজন মানুষ দেখা যাচ্ছে।\n",
            "Translated: Two people are seen.\n",
            "------\n",
            "Original: জানালা দিয়ে দুইটি শিশু দেখা যাচ্ছে।\n",
            "Translated: Two children are seen through the windows.\n",
            "------\n",
            "Original: দুইজন মানুষ ছাতা নিয়ে হেঁটে যাচ্ছে।\n",
            "Translated: Two people are walking with an umbrella.\n",
            "------\n",
            "Original: চারজন পুরুষ আছে।\n",
            "Translated: There are four men.\n",
            "------\n"
          ]
        },
        {
          "name": "stderr",
          "output_type": "stream",
          "text": [
            "\rProcessing batches:  90%|█████████ | 83/92 [15:26<01:49, 12.22s/it]"
          ]
        },
        {
          "name": "stdout",
          "output_type": "stream",
          "text": [
            "Batch 8300 translations:\n",
            "Original: একটি শিশু আছে।\n",
            "Translated: Have a child.\n",
            "------\n",
            "Original: সন্ধ্যাবেলা ভবন দেখা যাচ্ছে।\n",
            "Translated: In the evening the building is seen.\n",
            "------\n",
            "Original: একজন নারী পানিতে গোছল করছে।\n",
            "Translated: A woman is taking the water in the water.\n",
            "------\n",
            "Original: একজন বালক আছে।\n",
            "Translated: There is a boy\n",
            "------\n",
            "Original: কয়েকজন মানুষ ফুটবল খেলছে।\n",
            "Translated: Some people are playing football.\n",
            "------\n"
          ]
        },
        {
          "name": "stderr",
          "output_type": "stream",
          "text": [
            "\rProcessing batches:  91%|█████████▏| 84/92 [15:37<01:35, 11.95s/it]"
          ]
        },
        {
          "name": "stdout",
          "output_type": "stream",
          "text": [
            "Batch 8400 translations:\n",
            "Original: একটি পাখি আছে।\n",
            "Translated: Have a bird.\n",
            "------\n",
            "Original: গাছে দুইজন মানুষ আছে।\n",
            "Translated: There are two people on the tree.\n",
            "------\n",
            "Original: একজন নারী একটি শিশু কোলে নিয়ে আছে।\n",
            "Translated: A woman is taken to a child.\n",
            "------\n",
            "Original: কয়েকটি নৌকা ও কয়েকজন মানুষ বসে আছে।\n",
            "Translated: Some boats and a few people are sitting.\n",
            "------\n",
            "Original: রাস্তা দিয়ে কয়েকটি শিশু দৌরে আসছে।\n",
            "Translated: A few children are coming by the road.\n",
            "------\n"
          ]
        },
        {
          "name": "stderr",
          "output_type": "stream",
          "text": [
            "\rProcessing batches:  92%|█████████▏| 85/92 [15:47<01:19, 11.38s/it]"
          ]
        },
        {
          "name": "stdout",
          "output_type": "stream",
          "text": [
            "Batch 8500 translations:\n",
            "Original: একটি নৌকা ও একজন মানুষ দেখা যাচ্ছে।\n",
            "Translated: A boat and a man are seen.\n",
            "------\n",
            "Original: চারজন মানুষ বসে আছে।\n",
            "Translated: Four people are sitting.\n",
            "------\n",
            "Original: একজন পুরুষ বসে আছে। পিছনে কয়েকজন মানুষ দেখা যাচ্ছে।\n",
            "Translated: A man is sitting.A few people are seen behind.\n",
            "------\n",
            "Original: একটি নৌকা চলছে।\n",
            "Translated: A boat is running.\n",
            "------\n",
            "Original: একজন মানুষ আছে।\n",
            "Translated: There is a man\n",
            "------\n"
          ]
        },
        {
          "name": "stderr",
          "output_type": "stream",
          "text": [
            "\rProcessing batches:  93%|█████████▎| 86/92 [16:00<01:10, 11.74s/it]"
          ]
        },
        {
          "name": "stdout",
          "output_type": "stream",
          "text": [
            "Error during translation: the JSON object must be str, bytes or bytearray, not NoneType\n",
            "Batch 8600 translations:\n",
            "Original: একজন মানুষ বসে আছে। দূরে কয়েকজন মানুষ আছে।\n",
            "Translated: \n",
            "------\n",
            "Original: কয়েকজন মানুষ দাড়িয়ে আছে।\n",
            "Translated: \n",
            "------\n",
            "Original: একটি ছাতা আছে।\n",
            "Translated: \n",
            "------\n",
            "Original: সূর্যাস্তের সময় নৌকায় দাঁড়িয়ে কয়েকজন লোক একসাথে মাছ ধরার জাল টেনে তুলছে।\n",
            "Translated: \n",
            "------\n",
            "Original: একজন লোক একটা বাচ্চাকে কোলে নিয়ে দাঁড়িয়ে আছে।\n",
            "Translated: \n",
            "------\n"
          ]
        },
        {
          "name": "stderr",
          "output_type": "stream",
          "text": [
            "\rProcessing batches:  95%|█████████▍| 87/92 [16:08<00:54, 10.85s/it]"
          ]
        },
        {
          "name": "stdout",
          "output_type": "stream",
          "text": [
            "Error during translation: the JSON object must be str, bytes or bytearray, not NoneType\n",
            "Batch 8700 translations:\n",
            "Original: একটা ছেলে পুকুরের সিঁড়িতে বসে আছে আর দুইজন ছেলে পানিতে নামছে।\n",
            "Translated: \n",
            "------\n",
            "Original: সৃতিসৌধ এর সামনে অনেক লোক দাঁড়িয়ে ও বসে আছে আর একজন লোক লাঠিতে অনেকগুলো পতাকা বেঁধে দাঁড়িয়ে আছে।\n",
            "Translated: \n",
            "------\n",
            "Original: রাতের বেলায় বৃষ্টিতে একজন লোক ছাতা মাথায় ধরে দাঁড়িয়ে আছে।\n",
            "Translated: \n",
            "------\n",
            "Original: রাস্তার ফুটপাতে জোড়ায় জোড়ায় মানুষ বসে আছে এর একজন লোক একা বসে আছে।\n",
            "Translated: \n",
            "------\n",
            "Original: তিনজন ছেলে একটা ভেলা নিয়ে নদীতে গোসল করছে।\n",
            "Translated: \n",
            "------\n"
          ]
        },
        {
          "name": "stderr",
          "output_type": "stream",
          "text": [
            "\rProcessing batches:  96%|█████████▌| 88/92 [16:16<00:39,  9.89s/it]"
          ]
        },
        {
          "name": "stdout",
          "output_type": "stream",
          "text": [
            "Error during translation: the JSON object must be str, bytes or bytearray, not NoneType\n",
            "Batch 8800 translations:\n",
            "Original: একজন লোক কাঁধে সবুজ গাছ বহন করে নিয়ে হেঁটে যাচ্ছে।\n",
            "Translated: \n",
            "------\n",
            "Original: একজন বৃদ্ধ লোক বসে হাতে খাবার নিয়ে দুইটা ছাগলকে খাওয়াচ্ছে।\n",
            "Translated: \n",
            "------\n",
            "Original: একটা ছত শিশু বসে তাকিয়ে আছে।\n",
            "Translated: \n",
            "------\n",
            "Original: একটা নৌকায় একজন লোক ফোন হাতে নিয়ে দাঁড়িয়ে আছে আর মাঝি নৌকা বাইচে।\n",
            "Translated: \n",
            "------\n",
            "Original: একজন লোক মাথায় বোঝা নিয়ে একটা ব্রিজের উপর দিয়ে হেঁটে যাচ্ছে।\n",
            "Translated: \n",
            "------\n"
          ]
        },
        {
          "name": "stderr",
          "output_type": "stream",
          "text": [
            "\rProcessing batches:  97%|█████████▋| 89/92 [16:25<00:28,  9.56s/it]"
          ]
        },
        {
          "name": "stdout",
          "output_type": "stream",
          "text": [
            "Error during translation: the JSON object must be str, bytes or bytearray, not NoneType\n",
            "Batch 8900 translations:\n",
            "Original: একটা বাচ্চা সবুজ ঘাসের মধ্যে দাঁড়িয়ে পাতা ছিরছে।\n",
            "Translated: \n",
            "------\n",
            "Original: হলুদ সরিষা ক্ষেতের মাঝে একজন বাচ্চা মেয়ে একটা লাল-সবুজ পতাকা হাতে নিয়ে দাঁড়িয়ে আছে।\n",
            "Translated: \n",
            "------\n",
            "Original: লাল জামা পরা একটা মেয়ে সমুদ্রের পাড়ে দাঁড়িয়ে আছে।\n",
            "Translated: \n",
            "------\n",
            "Original: একটা মেয়ে হাঁতে অনেকগুলো শাপলা ফুল নিয়ে দাঁড়িয়ে আছে।\n",
            "Translated: \n",
            "------\n",
            "Original: তিনজন ছোট ছেলে মাথায় ও হাতে মুখোশ লাগিয়ে দাঁড়িয়ে আছে।\n",
            "Translated: \n",
            "------\n"
          ]
        },
        {
          "name": "stderr",
          "output_type": "stream",
          "text": [
            "\rProcessing batches:  98%|█████████▊| 90/92 [16:33<00:18,  9.03s/it]"
          ]
        },
        {
          "name": "stdout",
          "output_type": "stream",
          "text": [
            "Error during translation: the JSON object must be str, bytes or bytearray, not NoneType\n",
            "Batch 9000 translations:\n",
            "Original: একটা বাচ্চা ছেলে দাঁড়িয়ে দাঁত বের করে হাসছে।\n",
            "Translated: \n",
            "------\n",
            "Original: নদীতে কয়েকটা নৌকা চলতে দেখা যাচ্ছে।\n",
            "Translated: \n",
            "------\n",
            "Original: কালো স্কার্ফ পরা একটা ছোট মেয়ে হাতে একটা সিলেট নিয়ে হাঁসি মুখে দাঁড়িয়ে আছে।\n",
            "Translated: \n",
            "------\n",
            "Original: হলুদ ফুলে ভরা সরিষা ক্ষেতের মাঝের রাস্তা দিয়ে দুইজন ছেলে একটা সাইকেলে বসে যাচ্ছে আর পিছন থেকে একটা ছেলে সেই সাইকেল ধাক্কা দিচ্ছে।\n",
            "Translated: \n",
            "------\n",
            "Original: নদীর পাড়ে দাঁড়িয়ে একজন লোক পানিতে কাপড় ধুচ্ছে।\n",
            "Translated: \n",
            "------\n"
          ]
        },
        {
          "name": "stderr",
          "output_type": "stream",
          "text": [
            "\rProcessing batches:  99%|█████████▉| 91/92 [16:41<00:08,  8.87s/it]"
          ]
        },
        {
          "name": "stdout",
          "output_type": "stream",
          "text": [
            "Batch 9100 translations:\n",
            "Original: দুইপাশে গাছপালার সারি আর মাঝের রাস্তা দিয়ে একজন মেয়ে হেঁটে যাচ্ছে।\n",
            "Translated: A girl is walking along the rows of vegetation and middle road on both sides.\n",
            "------\n",
            "Original: একটা রাস্তা দিয়ে পাঁচজন লোক হেঁটে যাচ্ছে।\n",
            "Translated: Five people are walking along one road.\n",
            "------\n",
            "Original: একটা বাচ্চা ছেলে একা দাঁড়িয়ে আছে।\n",
            "Translated: A baby boy is standing alone.\n",
            "------\n",
            "Original: বৃষ্টিতে একটা মেয়ে ছাতা মাথায় ধরে হাত বৃষ্টিতে ভিজাচ্ছে।\n",
            "Translated: In the rain, a girl's umbrella holds her hands wet in the rain.\n",
            "------\n",
            "Original: একটা ছোট মেয়ে হাতে একটা খাতা নিয়ে হাঁসি দিয়ে তাকিয়ে আছে।\n",
            "Translated: A little girl looks at a duck with a book in her hand.\n",
            "------\n"
          ]
        },
        {
          "name": "stderr",
          "output_type": "stream",
          "text": [
            "Processing batches: 100%|██████████| 92/92 [16:51<00:00, 11.00s/it]"
          ]
        },
        {
          "name": "stdout",
          "output_type": "stream",
          "text": [
            "Saved caption embeddings to 'caption_embeddings.npy'\n"
          ]
        },
        {
          "name": "stderr",
          "output_type": "stream",
          "text": [
            "\n"
          ]
        }
      ],
      "source": [
        "if os.path.exists(cap_path):\n",
        "    with open(cap_path, 'r') as f:\n",
        "        data = json.load(f)\n",
        "\n",
        "    tokenizer = BertTokenizer.from_pretrained(\"bert-base-uncased\")\n",
        "    model = BertModel.from_pretrained(\"bert-base-uncased\")\n",
        "    model.eval()\n",
        "    embeddings = {}\n",
        "\n",
        "    batch_size = 100\n",
        "    all_captions = [entry['caption'][0] for entry in data]\n",
        "    filenames = [entry['filename'] for entry in data]\n",
        "\n",
        "    for i in tqdm(range(0, len(all_captions), batch_size), desc=\"Processing batches\"):\n",
        "        batch_captions = all_captions[i:i + batch_size]\n",
        "        batch_filenames = filenames[i:i + batch_size]\n",
        "\n",
        "        # Translate captions in the current batch\n",
        "        translated_captions = batch_translate(batch_captions)\n",
        "\n",
        "        print(f\"Batch {i} translations:\")\n",
        "        for original, translated in zip(batch_captions[:5], translated_captions[:5]):\n",
        "            print(f\"Original: {original}\")\n",
        "            print(f\"Translated: {translated}\")\n",
        "            print(\"------\")\n",
        "\n",
        "        for filename, english_caption in zip(batch_filenames, translated_captions):\n",
        "            cleaned_tokens = preprocess_text(english_caption)\n",
        "            tokenized_input = tokenizer(\" \".join(cleaned_tokens), return_tensors=\"pt\", padding=True, truncation=True)\n",
        "\n",
        "            with torch.no_grad():\n",
        "                outputs = model(**tokenized_input)\n",
        "                embedding = outputs.last_hidden_state.mean(dim=1).squeeze()  # Take mean of token embeddings\n",
        "\n",
        "            embeddings[filename] = embedding\n",
        "\n",
        "    # Save embeddings for later use\n",
        "    np.save(\"caption_embeddings.npy\", embeddings)\n",
        "    print(\"Saved caption embeddings to 'caption_embeddings.npy'\")"
      ]
    },
    {
      "cell_type": "code",
      "execution_count": null,
      "metadata": {
        "colab": {
          "base_uri": "https://localhost:8080/"
        },
        "id": "qoR0ofEdr1MS",
        "outputId": "ff8d5bd6-8961-4957-a72a-71580e142730"
      },
      "outputs": [
        {
          "name": "stdout",
          "output_type": "stream",
          "text": [
            "Type of embeddings: <class 'dict'>\n",
            "Number of entries: 9154\n",
            "Filename: 1.png\n",
            "Embedding shape: (768,)\n",
            "Embedding (first 5 values): [-0.00922781 -0.22185887 -0.34482703  0.01650961 -0.29198343]\n",
            "\n",
            "Filename: 2.png\n",
            "Embedding shape: (768,)\n",
            "Embedding (first 5 values): [-0.00922781 -0.22185887 -0.34482703  0.01650961 -0.29198343]\n",
            "\n",
            "Filename: 3.png\n",
            "Embedding shape: (768,)\n",
            "Embedding (first 5 values): [-0.00922781 -0.22185887 -0.34482703  0.01650961 -0.29198343]\n",
            "\n",
            "Filename: 4.png\n",
            "Embedding shape: (768,)\n",
            "Embedding (first 5 values): [-0.00922781 -0.22185887 -0.34482703  0.01650961 -0.29198343]\n",
            "\n",
            "Filename: 5.png\n",
            "Embedding shape: (768,)\n",
            "Embedding (first 5 values): [-0.00922781 -0.22185887 -0.34482703  0.01650961 -0.29198343]\n",
            "\n"
          ]
        }
      ],
      "source": [
        "import numpy as np\n",
        "\n",
        "# Load the embeddings from the .npy file\n",
        "embeddings = np.load(\"caption_embeddings.npy\", allow_pickle=True).item()\n",
        "\n",
        "# Check the type and keys\n",
        "print(f\"Type of embeddings: {type(embeddings)}\")\n",
        "print(f\"Number of entries: {len(embeddings)}\")\n",
        "\n",
        "# Print the first few keys and their corresponding embeddings\n",
        "for i, (filename, embedding) in enumerate(embeddings.items()):\n",
        "    print(f\"Filename: {filename}\")\n",
        "    print(f\"Embedding shape: {embedding.shape}\")\n",
        "    print(f\"Embedding (first 5 values): {embedding[:5]}\")\n",
        "    print()  # Add a blank line for better readability\n",
        "    if i >= 4:  # Limit to the first 5 items\n",
        "        break"
      ]
    }
  ],
  "metadata": {
    "colab": {
      "provenance": []
    },
    "kernelspec": {
      "display_name": "Python 3",
      "name": "python3"
    },
    "language_info": {
      "codemirror_mode": {
        "name": "ipython",
        "version": 3
      },
      "file_extension": ".py",
      "mimetype": "text/x-python",
      "name": "python",
      "nbconvert_exporter": "python",
      "pygments_lexer": "ipython3",
      "version": "3.11.9"
    },
    "widgets": {
      "application/vnd.jupyter.widget-state+json": {
        "0114d6fc765b4b5589c4fe68de1a2fe9": {
          "model_module": "@jupyter-widgets/base",
          "model_module_version": "1.2.0",
          "model_name": "LayoutModel",
          "state": {
            "_model_module": "@jupyter-widgets/base",
            "_model_module_version": "1.2.0",
            "_model_name": "LayoutModel",
            "_view_count": null,
            "_view_module": "@jupyter-widgets/base",
            "_view_module_version": "1.2.0",
            "_view_name": "LayoutView",
            "align_content": null,
            "align_items": null,
            "align_self": null,
            "border": null,
            "bottom": null,
            "display": null,
            "flex": null,
            "flex_flow": null,
            "grid_area": null,
            "grid_auto_columns": null,
            "grid_auto_flow": null,
            "grid_auto_rows": null,
            "grid_column": null,
            "grid_gap": null,
            "grid_row": null,
            "grid_template_areas": null,
            "grid_template_columns": null,
            "grid_template_rows": null,
            "height": null,
            "justify_content": null,
            "justify_items": null,
            "left": null,
            "margin": null,
            "max_height": null,
            "max_width": null,
            "min_height": null,
            "min_width": null,
            "object_fit": null,
            "object_position": null,
            "order": null,
            "overflow": null,
            "overflow_x": null,
            "overflow_y": null,
            "padding": null,
            "right": null,
            "top": null,
            "visibility": null,
            "width": null
          }
        },
        "0808b14d352b49ef9f98cb73f480be28": {
          "model_module": "@jupyter-widgets/controls",
          "model_module_version": "1.5.0",
          "model_name": "DescriptionStyleModel",
          "state": {
            "_model_module": "@jupyter-widgets/controls",
            "_model_module_version": "1.5.0",
            "_model_name": "DescriptionStyleModel",
            "_view_count": null,
            "_view_module": "@jupyter-widgets/base",
            "_view_module_version": "1.2.0",
            "_view_name": "StyleView",
            "description_width": ""
          }
        },
        "0823e86e02424165a23799fb053493d3": {
          "model_module": "@jupyter-widgets/controls",
          "model_module_version": "1.5.0",
          "model_name": "DescriptionStyleModel",
          "state": {
            "_model_module": "@jupyter-widgets/controls",
            "_model_module_version": "1.5.0",
            "_model_name": "DescriptionStyleModel",
            "_view_count": null,
            "_view_module": "@jupyter-widgets/base",
            "_view_module_version": "1.2.0",
            "_view_name": "StyleView",
            "description_width": ""
          }
        },
        "0b382eb91d9c4c90a1dadd95a322e172": {
          "model_module": "@jupyter-widgets/controls",
          "model_module_version": "1.5.0",
          "model_name": "HBoxModel",
          "state": {
            "_dom_classes": [],
            "_model_module": "@jupyter-widgets/controls",
            "_model_module_version": "1.5.0",
            "_model_name": "HBoxModel",
            "_view_count": null,
            "_view_module": "@jupyter-widgets/controls",
            "_view_module_version": "1.5.0",
            "_view_name": "HBoxView",
            "box_style": "",
            "children": [
              "IPY_MODEL_80575ae53f0043edbf4896e4d93d1535",
              "IPY_MODEL_14892a9a1bdc4703ade4b568673802aa",
              "IPY_MODEL_5589348694f04505b7c97f791c4f3cfd"
            ],
            "layout": "IPY_MODEL_f289ca3e52174bbdaf393170874f9bfc"
          }
        },
        "13606ceed1f04fec86d93df1baf9fccc": {
          "model_module": "@jupyter-widgets/controls",
          "model_module_version": "1.5.0",
          "model_name": "ProgressStyleModel",
          "state": {
            "_model_module": "@jupyter-widgets/controls",
            "_model_module_version": "1.5.0",
            "_model_name": "ProgressStyleModel",
            "_view_count": null,
            "_view_module": "@jupyter-widgets/base",
            "_view_module_version": "1.2.0",
            "_view_name": "StyleView",
            "bar_color": null,
            "description_width": ""
          }
        },
        "14892a9a1bdc4703ade4b568673802aa": {
          "model_module": "@jupyter-widgets/controls",
          "model_module_version": "1.5.0",
          "model_name": "FloatProgressModel",
          "state": {
            "_dom_classes": [],
            "_model_module": "@jupyter-widgets/controls",
            "_model_module_version": "1.5.0",
            "_model_name": "FloatProgressModel",
            "_view_count": null,
            "_view_module": "@jupyter-widgets/controls",
            "_view_module_version": "1.5.0",
            "_view_name": "ProgressView",
            "bar_style": "success",
            "description": "",
            "description_tooltip": null,
            "layout": "IPY_MODEL_f04aa8bdcab146fc84618932a563118c",
            "max": 466062,
            "min": 0,
            "orientation": "horizontal",
            "style": "IPY_MODEL_1b8172c8ea3442d999b93995b07c3bf6",
            "value": 466062
          }
        },
        "1b8172c8ea3442d999b93995b07c3bf6": {
          "model_module": "@jupyter-widgets/controls",
          "model_module_version": "1.5.0",
          "model_name": "ProgressStyleModel",
          "state": {
            "_model_module": "@jupyter-widgets/controls",
            "_model_module_version": "1.5.0",
            "_model_name": "ProgressStyleModel",
            "_view_count": null,
            "_view_module": "@jupyter-widgets/base",
            "_view_module_version": "1.2.0",
            "_view_name": "StyleView",
            "bar_color": null,
            "description_width": ""
          }
        },
        "31025aab223542ad81eaf96daec9569a": {
          "model_module": "@jupyter-widgets/base",
          "model_module_version": "1.2.0",
          "model_name": "LayoutModel",
          "state": {
            "_model_module": "@jupyter-widgets/base",
            "_model_module_version": "1.2.0",
            "_model_name": "LayoutModel",
            "_view_count": null,
            "_view_module": "@jupyter-widgets/base",
            "_view_module_version": "1.2.0",
            "_view_name": "LayoutView",
            "align_content": null,
            "align_items": null,
            "align_self": null,
            "border": null,
            "bottom": null,
            "display": null,
            "flex": null,
            "flex_flow": null,
            "grid_area": null,
            "grid_auto_columns": null,
            "grid_auto_flow": null,
            "grid_auto_rows": null,
            "grid_column": null,
            "grid_gap": null,
            "grid_row": null,
            "grid_template_areas": null,
            "grid_template_columns": null,
            "grid_template_rows": null,
            "height": null,
            "justify_content": null,
            "justify_items": null,
            "left": null,
            "margin": null,
            "max_height": null,
            "max_width": null,
            "min_height": null,
            "min_width": null,
            "object_fit": null,
            "object_position": null,
            "order": null,
            "overflow": null,
            "overflow_x": null,
            "overflow_y": null,
            "padding": null,
            "right": null,
            "top": null,
            "visibility": null,
            "width": null
          }
        },
        "43bb159564104b46961f7b6baf3441c9": {
          "model_module": "@jupyter-widgets/base",
          "model_module_version": "1.2.0",
          "model_name": "LayoutModel",
          "state": {
            "_model_module": "@jupyter-widgets/base",
            "_model_module_version": "1.2.0",
            "_model_name": "LayoutModel",
            "_view_count": null,
            "_view_module": "@jupyter-widgets/base",
            "_view_module_version": "1.2.0",
            "_view_name": "LayoutView",
            "align_content": null,
            "align_items": null,
            "align_self": null,
            "border": null,
            "bottom": null,
            "display": null,
            "flex": null,
            "flex_flow": null,
            "grid_area": null,
            "grid_auto_columns": null,
            "grid_auto_flow": null,
            "grid_auto_rows": null,
            "grid_column": null,
            "grid_gap": null,
            "grid_row": null,
            "grid_template_areas": null,
            "grid_template_columns": null,
            "grid_template_rows": null,
            "height": null,
            "justify_content": null,
            "justify_items": null,
            "left": null,
            "margin": null,
            "max_height": null,
            "max_width": null,
            "min_height": null,
            "min_width": null,
            "object_fit": null,
            "object_position": null,
            "order": null,
            "overflow": null,
            "overflow_x": null,
            "overflow_y": null,
            "padding": null,
            "right": null,
            "top": null,
            "visibility": null,
            "width": null
          }
        },
        "488eba72914342e9850e688b683dbd3f": {
          "model_module": "@jupyter-widgets/controls",
          "model_module_version": "1.5.0",
          "model_name": "HBoxModel",
          "state": {
            "_dom_classes": [],
            "_model_module": "@jupyter-widgets/controls",
            "_model_module_version": "1.5.0",
            "_model_name": "HBoxModel",
            "_view_count": null,
            "_view_module": "@jupyter-widgets/controls",
            "_view_module_version": "1.5.0",
            "_view_name": "HBoxView",
            "box_style": "",
            "children": [
              "IPY_MODEL_a16fb03ac2024515b393103343039375",
              "IPY_MODEL_52e3334e00814e198ffe50bfaa29ece4",
              "IPY_MODEL_7f9a986816b5471ca017867c3b1fc55f"
            ],
            "layout": "IPY_MODEL_97b3e4a75e074bbb81713d300aef141c"
          }
        },
        "4c55b3c4c9c44dd78743730481c3e482": {
          "model_module": "@jupyter-widgets/base",
          "model_module_version": "1.2.0",
          "model_name": "LayoutModel",
          "state": {
            "_model_module": "@jupyter-widgets/base",
            "_model_module_version": "1.2.0",
            "_model_name": "LayoutModel",
            "_view_count": null,
            "_view_module": "@jupyter-widgets/base",
            "_view_module_version": "1.2.0",
            "_view_name": "LayoutView",
            "align_content": null,
            "align_items": null,
            "align_self": null,
            "border": null,
            "bottom": null,
            "display": null,
            "flex": null,
            "flex_flow": null,
            "grid_area": null,
            "grid_auto_columns": null,
            "grid_auto_flow": null,
            "grid_auto_rows": null,
            "grid_column": null,
            "grid_gap": null,
            "grid_row": null,
            "grid_template_areas": null,
            "grid_template_columns": null,
            "grid_template_rows": null,
            "height": null,
            "justify_content": null,
            "justify_items": null,
            "left": null,
            "margin": null,
            "max_height": null,
            "max_width": null,
            "min_height": null,
            "min_width": null,
            "object_fit": null,
            "object_position": null,
            "order": null,
            "overflow": null,
            "overflow_x": null,
            "overflow_y": null,
            "padding": null,
            "right": null,
            "top": null,
            "visibility": null,
            "width": null
          }
        },
        "52e3334e00814e198ffe50bfaa29ece4": {
          "model_module": "@jupyter-widgets/controls",
          "model_module_version": "1.5.0",
          "model_name": "FloatProgressModel",
          "state": {
            "_dom_classes": [],
            "_model_module": "@jupyter-widgets/controls",
            "_model_module_version": "1.5.0",
            "_model_name": "FloatProgressModel",
            "_view_count": null,
            "_view_module": "@jupyter-widgets/controls",
            "_view_module_version": "1.5.0",
            "_view_name": "ProgressView",
            "bar_style": "success",
            "description": "",
            "description_tooltip": null,
            "layout": "IPY_MODEL_0114d6fc765b4b5589c4fe68de1a2fe9",
            "max": 231508,
            "min": 0,
            "orientation": "horizontal",
            "style": "IPY_MODEL_13606ceed1f04fec86d93df1baf9fccc",
            "value": 231508
          }
        },
        "5589348694f04505b7c97f791c4f3cfd": {
          "model_module": "@jupyter-widgets/controls",
          "model_module_version": "1.5.0",
          "model_name": "HTMLModel",
          "state": {
            "_dom_classes": [],
            "_model_module": "@jupyter-widgets/controls",
            "_model_module_version": "1.5.0",
            "_model_name": "HTMLModel",
            "_view_count": null,
            "_view_module": "@jupyter-widgets/controls",
            "_view_module_version": "1.5.0",
            "_view_name": "HTMLView",
            "description": "",
            "description_tooltip": null,
            "layout": "IPY_MODEL_e72519994a9c484ca6e1173986785cb9",
            "placeholder": "​",
            "style": "IPY_MODEL_786e076951e541c092a6e7233110ab7a",
            "value": " 466k/466k [00:00&lt;00:00, 10.8MB/s]"
          }
        },
        "5ab71ada3b8d400da752e908a440b73e": {
          "model_module": "@jupyter-widgets/controls",
          "model_module_version": "1.5.0",
          "model_name": "DescriptionStyleModel",
          "state": {
            "_model_module": "@jupyter-widgets/controls",
            "_model_module_version": "1.5.0",
            "_model_name": "DescriptionStyleModel",
            "_view_count": null,
            "_view_module": "@jupyter-widgets/base",
            "_view_module_version": "1.2.0",
            "_view_name": "StyleView",
            "description_width": ""
          }
        },
        "5ec55d6c43df4545947bf2be20de4db0": {
          "model_module": "@jupyter-widgets/base",
          "model_module_version": "1.2.0",
          "model_name": "LayoutModel",
          "state": {
            "_model_module": "@jupyter-widgets/base",
            "_model_module_version": "1.2.0",
            "_model_name": "LayoutModel",
            "_view_count": null,
            "_view_module": "@jupyter-widgets/base",
            "_view_module_version": "1.2.0",
            "_view_name": "LayoutView",
            "align_content": null,
            "align_items": null,
            "align_self": null,
            "border": null,
            "bottom": null,
            "display": null,
            "flex": null,
            "flex_flow": null,
            "grid_area": null,
            "grid_auto_columns": null,
            "grid_auto_flow": null,
            "grid_auto_rows": null,
            "grid_column": null,
            "grid_gap": null,
            "grid_row": null,
            "grid_template_areas": null,
            "grid_template_columns": null,
            "grid_template_rows": null,
            "height": null,
            "justify_content": null,
            "justify_items": null,
            "left": null,
            "margin": null,
            "max_height": null,
            "max_width": null,
            "min_height": null,
            "min_width": null,
            "object_fit": null,
            "object_position": null,
            "order": null,
            "overflow": null,
            "overflow_x": null,
            "overflow_y": null,
            "padding": null,
            "right": null,
            "top": null,
            "visibility": null,
            "width": null
          }
        },
        "5f1651416f3143288bc948892bd032a4": {
          "model_module": "@jupyter-widgets/controls",
          "model_module_version": "1.5.0",
          "model_name": "FloatProgressModel",
          "state": {
            "_dom_classes": [],
            "_model_module": "@jupyter-widgets/controls",
            "_model_module_version": "1.5.0",
            "_model_name": "FloatProgressModel",
            "_view_count": null,
            "_view_module": "@jupyter-widgets/controls",
            "_view_module_version": "1.5.0",
            "_view_name": "ProgressView",
            "bar_style": "success",
            "description": "",
            "description_tooltip": null,
            "layout": "IPY_MODEL_ca245985c3224010b7ca88af011e50e3",
            "max": 570,
            "min": 0,
            "orientation": "horizontal",
            "style": "IPY_MODEL_a5a6a0b8434741c2853abca9fabaed6c",
            "value": 570
          }
        },
        "69ebb12e47ea4207b9c7a2946e554a3f": {
          "model_module": "@jupyter-widgets/base",
          "model_module_version": "1.2.0",
          "model_name": "LayoutModel",
          "state": {
            "_model_module": "@jupyter-widgets/base",
            "_model_module_version": "1.2.0",
            "_model_name": "LayoutModel",
            "_view_count": null,
            "_view_module": "@jupyter-widgets/base",
            "_view_module_version": "1.2.0",
            "_view_name": "LayoutView",
            "align_content": null,
            "align_items": null,
            "align_self": null,
            "border": null,
            "bottom": null,
            "display": null,
            "flex": null,
            "flex_flow": null,
            "grid_area": null,
            "grid_auto_columns": null,
            "grid_auto_flow": null,
            "grid_auto_rows": null,
            "grid_column": null,
            "grid_gap": null,
            "grid_row": null,
            "grid_template_areas": null,
            "grid_template_columns": null,
            "grid_template_rows": null,
            "height": null,
            "justify_content": null,
            "justify_items": null,
            "left": null,
            "margin": null,
            "max_height": null,
            "max_width": null,
            "min_height": null,
            "min_width": null,
            "object_fit": null,
            "object_position": null,
            "order": null,
            "overflow": null,
            "overflow_x": null,
            "overflow_y": null,
            "padding": null,
            "right": null,
            "top": null,
            "visibility": null,
            "width": null
          }
        },
        "7810855255c349b986e4bf935e75115b": {
          "model_module": "@jupyter-widgets/controls",
          "model_module_version": "1.5.0",
          "model_name": "HTMLModel",
          "state": {
            "_dom_classes": [],
            "_model_module": "@jupyter-widgets/controls",
            "_model_module_version": "1.5.0",
            "_model_name": "HTMLModel",
            "_view_count": null,
            "_view_module": "@jupyter-widgets/controls",
            "_view_module_version": "1.5.0",
            "_view_name": "HTMLView",
            "description": "",
            "description_tooltip": null,
            "layout": "IPY_MODEL_31025aab223542ad81eaf96daec9569a",
            "placeholder": "​",
            "style": "IPY_MODEL_5ab71ada3b8d400da752e908a440b73e",
            "value": " 48.0/48.0 [00:00&lt;00:00, 177B/s]"
          }
        },
        "786e076951e541c092a6e7233110ab7a": {
          "model_module": "@jupyter-widgets/controls",
          "model_module_version": "1.5.0",
          "model_name": "DescriptionStyleModel",
          "state": {
            "_model_module": "@jupyter-widgets/controls",
            "_model_module_version": "1.5.0",
            "_model_name": "DescriptionStyleModel",
            "_view_count": null,
            "_view_module": "@jupyter-widgets/base",
            "_view_module_version": "1.2.0",
            "_view_name": "StyleView",
            "description_width": ""
          }
        },
        "7ac0e3f9f8ac4c15a47c5ea115d929bf": {
          "model_module": "@jupyter-widgets/controls",
          "model_module_version": "1.5.0",
          "model_name": "HBoxModel",
          "state": {
            "_dom_classes": [],
            "_model_module": "@jupyter-widgets/controls",
            "_model_module_version": "1.5.0",
            "_model_name": "HBoxModel",
            "_view_count": null,
            "_view_module": "@jupyter-widgets/controls",
            "_view_module_version": "1.5.0",
            "_view_name": "HBoxView",
            "box_style": "",
            "children": [
              "IPY_MODEL_d76fb7c7b945471cb5b11cb90c82672c",
              "IPY_MODEL_5f1651416f3143288bc948892bd032a4",
              "IPY_MODEL_9a3843f83b8645eabb7a0e6a5383ef3c"
            ],
            "layout": "IPY_MODEL_aae5a56d47844fe2a190c03a3c5b1d56"
          }
        },
        "7f9a986816b5471ca017867c3b1fc55f": {
          "model_module": "@jupyter-widgets/controls",
          "model_module_version": "1.5.0",
          "model_name": "HTMLModel",
          "state": {
            "_dom_classes": [],
            "_model_module": "@jupyter-widgets/controls",
            "_model_module_version": "1.5.0",
            "_model_name": "HTMLModel",
            "_view_count": null,
            "_view_module": "@jupyter-widgets/controls",
            "_view_module_version": "1.5.0",
            "_view_name": "HTMLView",
            "description": "",
            "description_tooltip": null,
            "layout": "IPY_MODEL_69ebb12e47ea4207b9c7a2946e554a3f",
            "placeholder": "​",
            "style": "IPY_MODEL_d1ba194527874023adc9ad2ec35ab6c2",
            "value": " 232k/232k [00:00&lt;00:00, 2.88MB/s]"
          }
        },
        "80575ae53f0043edbf4896e4d93d1535": {
          "model_module": "@jupyter-widgets/controls",
          "model_module_version": "1.5.0",
          "model_name": "HTMLModel",
          "state": {
            "_dom_classes": [],
            "_model_module": "@jupyter-widgets/controls",
            "_model_module_version": "1.5.0",
            "_model_name": "HTMLModel",
            "_view_count": null,
            "_view_module": "@jupyter-widgets/controls",
            "_view_module_version": "1.5.0",
            "_view_name": "HTMLView",
            "description": "",
            "description_tooltip": null,
            "layout": "IPY_MODEL_f9a333bdd2834214bb2f783c5672a57c",
            "placeholder": "​",
            "style": "IPY_MODEL_0823e86e02424165a23799fb053493d3",
            "value": "tokenizer.json: 100%"
          }
        },
        "8a346fa8e29a4fe3b5f105ea5ef3d2c9": {
          "model_module": "@jupyter-widgets/controls",
          "model_module_version": "1.5.0",
          "model_name": "HBoxModel",
          "state": {
            "_dom_classes": [],
            "_model_module": "@jupyter-widgets/controls",
            "_model_module_version": "1.5.0",
            "_model_name": "HBoxModel",
            "_view_count": null,
            "_view_module": "@jupyter-widgets/controls",
            "_view_module_version": "1.5.0",
            "_view_name": "HBoxView",
            "box_style": "",
            "children": [
              "IPY_MODEL_d2864a59f28b4715b6e302169140094b",
              "IPY_MODEL_a36b1e7abd7749129b12f9274a9036df",
              "IPY_MODEL_7810855255c349b986e4bf935e75115b"
            ],
            "layout": "IPY_MODEL_beee3e77879a4e8195bd60203b2d3f3c"
          }
        },
        "97b3e4a75e074bbb81713d300aef141c": {
          "model_module": "@jupyter-widgets/base",
          "model_module_version": "1.2.0",
          "model_name": "LayoutModel",
          "state": {
            "_model_module": "@jupyter-widgets/base",
            "_model_module_version": "1.2.0",
            "_model_name": "LayoutModel",
            "_view_count": null,
            "_view_module": "@jupyter-widgets/base",
            "_view_module_version": "1.2.0",
            "_view_name": "LayoutView",
            "align_content": null,
            "align_items": null,
            "align_self": null,
            "border": null,
            "bottom": null,
            "display": null,
            "flex": null,
            "flex_flow": null,
            "grid_area": null,
            "grid_auto_columns": null,
            "grid_auto_flow": null,
            "grid_auto_rows": null,
            "grid_column": null,
            "grid_gap": null,
            "grid_row": null,
            "grid_template_areas": null,
            "grid_template_columns": null,
            "grid_template_rows": null,
            "height": null,
            "justify_content": null,
            "justify_items": null,
            "left": null,
            "margin": null,
            "max_height": null,
            "max_width": null,
            "min_height": null,
            "min_width": null,
            "object_fit": null,
            "object_position": null,
            "order": null,
            "overflow": null,
            "overflow_x": null,
            "overflow_y": null,
            "padding": null,
            "right": null,
            "top": null,
            "visibility": null,
            "width": null
          }
        },
        "97c858bc93a44ab49e0143141bc63f5f": {
          "model_module": "@jupyter-widgets/controls",
          "model_module_version": "1.5.0",
          "model_name": "DescriptionStyleModel",
          "state": {
            "_model_module": "@jupyter-widgets/controls",
            "_model_module_version": "1.5.0",
            "_model_name": "DescriptionStyleModel",
            "_view_count": null,
            "_view_module": "@jupyter-widgets/base",
            "_view_module_version": "1.2.0",
            "_view_name": "StyleView",
            "description_width": ""
          }
        },
        "9a3843f83b8645eabb7a0e6a5383ef3c": {
          "model_module": "@jupyter-widgets/controls",
          "model_module_version": "1.5.0",
          "model_name": "HTMLModel",
          "state": {
            "_dom_classes": [],
            "_model_module": "@jupyter-widgets/controls",
            "_model_module_version": "1.5.0",
            "_model_name": "HTMLModel",
            "_view_count": null,
            "_view_module": "@jupyter-widgets/controls",
            "_view_module_version": "1.5.0",
            "_view_name": "HTMLView",
            "description": "",
            "description_tooltip": null,
            "layout": "IPY_MODEL_f0eccc98ca6b4278859e8251b0c89efe",
            "placeholder": "​",
            "style": "IPY_MODEL_0808b14d352b49ef9f98cb73f480be28",
            "value": " 570/570 [00:00&lt;00:00, 29.2kB/s]"
          }
        },
        "9f37f53723f44d628a4b27b5a11d0007": {
          "model_module": "@jupyter-widgets/controls",
          "model_module_version": "1.5.0",
          "model_name": "ProgressStyleModel",
          "state": {
            "_model_module": "@jupyter-widgets/controls",
            "_model_module_version": "1.5.0",
            "_model_name": "ProgressStyleModel",
            "_view_count": null,
            "_view_module": "@jupyter-widgets/base",
            "_view_module_version": "1.2.0",
            "_view_name": "StyleView",
            "bar_color": null,
            "description_width": ""
          }
        },
        "a16fb03ac2024515b393103343039375": {
          "model_module": "@jupyter-widgets/controls",
          "model_module_version": "1.5.0",
          "model_name": "HTMLModel",
          "state": {
            "_dom_classes": [],
            "_model_module": "@jupyter-widgets/controls",
            "_model_module_version": "1.5.0",
            "_model_name": "HTMLModel",
            "_view_count": null,
            "_view_module": "@jupyter-widgets/controls",
            "_view_module_version": "1.5.0",
            "_view_name": "HTMLView",
            "description": "",
            "description_tooltip": null,
            "layout": "IPY_MODEL_43bb159564104b46961f7b6baf3441c9",
            "placeholder": "​",
            "style": "IPY_MODEL_e749510ece124764af8f8bbab84d15de",
            "value": "vocab.txt: 100%"
          }
        },
        "a36b1e7abd7749129b12f9274a9036df": {
          "model_module": "@jupyter-widgets/controls",
          "model_module_version": "1.5.0",
          "model_name": "FloatProgressModel",
          "state": {
            "_dom_classes": [],
            "_model_module": "@jupyter-widgets/controls",
            "_model_module_version": "1.5.0",
            "_model_name": "FloatProgressModel",
            "_view_count": null,
            "_view_module": "@jupyter-widgets/controls",
            "_view_module_version": "1.5.0",
            "_view_name": "ProgressView",
            "bar_style": "success",
            "description": "",
            "description_tooltip": null,
            "layout": "IPY_MODEL_4c55b3c4c9c44dd78743730481c3e482",
            "max": 48,
            "min": 0,
            "orientation": "horizontal",
            "style": "IPY_MODEL_9f37f53723f44d628a4b27b5a11d0007",
            "value": 48
          }
        },
        "a5a6a0b8434741c2853abca9fabaed6c": {
          "model_module": "@jupyter-widgets/controls",
          "model_module_version": "1.5.0",
          "model_name": "ProgressStyleModel",
          "state": {
            "_model_module": "@jupyter-widgets/controls",
            "_model_module_version": "1.5.0",
            "_model_name": "ProgressStyleModel",
            "_view_count": null,
            "_view_module": "@jupyter-widgets/base",
            "_view_module_version": "1.2.0",
            "_view_name": "StyleView",
            "bar_color": null,
            "description_width": ""
          }
        },
        "aae5a56d47844fe2a190c03a3c5b1d56": {
          "model_module": "@jupyter-widgets/base",
          "model_module_version": "1.2.0",
          "model_name": "LayoutModel",
          "state": {
            "_model_module": "@jupyter-widgets/base",
            "_model_module_version": "1.2.0",
            "_model_name": "LayoutModel",
            "_view_count": null,
            "_view_module": "@jupyter-widgets/base",
            "_view_module_version": "1.2.0",
            "_view_name": "LayoutView",
            "align_content": null,
            "align_items": null,
            "align_self": null,
            "border": null,
            "bottom": null,
            "display": null,
            "flex": null,
            "flex_flow": null,
            "grid_area": null,
            "grid_auto_columns": null,
            "grid_auto_flow": null,
            "grid_auto_rows": null,
            "grid_column": null,
            "grid_gap": null,
            "grid_row": null,
            "grid_template_areas": null,
            "grid_template_columns": null,
            "grid_template_rows": null,
            "height": null,
            "justify_content": null,
            "justify_items": null,
            "left": null,
            "margin": null,
            "max_height": null,
            "max_width": null,
            "min_height": null,
            "min_width": null,
            "object_fit": null,
            "object_position": null,
            "order": null,
            "overflow": null,
            "overflow_x": null,
            "overflow_y": null,
            "padding": null,
            "right": null,
            "top": null,
            "visibility": null,
            "width": null
          }
        },
        "aea50fe8b17441c9a5601698b45a0d75": {
          "model_module": "@jupyter-widgets/controls",
          "model_module_version": "1.5.0",
          "model_name": "DescriptionStyleModel",
          "state": {
            "_model_module": "@jupyter-widgets/controls",
            "_model_module_version": "1.5.0",
            "_model_name": "DescriptionStyleModel",
            "_view_count": null,
            "_view_module": "@jupyter-widgets/base",
            "_view_module_version": "1.2.0",
            "_view_name": "StyleView",
            "description_width": ""
          }
        },
        "beee3e77879a4e8195bd60203b2d3f3c": {
          "model_module": "@jupyter-widgets/base",
          "model_module_version": "1.2.0",
          "model_name": "LayoutModel",
          "state": {
            "_model_module": "@jupyter-widgets/base",
            "_model_module_version": "1.2.0",
            "_model_name": "LayoutModel",
            "_view_count": null,
            "_view_module": "@jupyter-widgets/base",
            "_view_module_version": "1.2.0",
            "_view_name": "LayoutView",
            "align_content": null,
            "align_items": null,
            "align_self": null,
            "border": null,
            "bottom": null,
            "display": null,
            "flex": null,
            "flex_flow": null,
            "grid_area": null,
            "grid_auto_columns": null,
            "grid_auto_flow": null,
            "grid_auto_rows": null,
            "grid_column": null,
            "grid_gap": null,
            "grid_row": null,
            "grid_template_areas": null,
            "grid_template_columns": null,
            "grid_template_rows": null,
            "height": null,
            "justify_content": null,
            "justify_items": null,
            "left": null,
            "margin": null,
            "max_height": null,
            "max_width": null,
            "min_height": null,
            "min_width": null,
            "object_fit": null,
            "object_position": null,
            "order": null,
            "overflow": null,
            "overflow_x": null,
            "overflow_y": null,
            "padding": null,
            "right": null,
            "top": null,
            "visibility": null,
            "width": null
          }
        },
        "ca245985c3224010b7ca88af011e50e3": {
          "model_module": "@jupyter-widgets/base",
          "model_module_version": "1.2.0",
          "model_name": "LayoutModel",
          "state": {
            "_model_module": "@jupyter-widgets/base",
            "_model_module_version": "1.2.0",
            "_model_name": "LayoutModel",
            "_view_count": null,
            "_view_module": "@jupyter-widgets/base",
            "_view_module_version": "1.2.0",
            "_view_name": "LayoutView",
            "align_content": null,
            "align_items": null,
            "align_self": null,
            "border": null,
            "bottom": null,
            "display": null,
            "flex": null,
            "flex_flow": null,
            "grid_area": null,
            "grid_auto_columns": null,
            "grid_auto_flow": null,
            "grid_auto_rows": null,
            "grid_column": null,
            "grid_gap": null,
            "grid_row": null,
            "grid_template_areas": null,
            "grid_template_columns": null,
            "grid_template_rows": null,
            "height": null,
            "justify_content": null,
            "justify_items": null,
            "left": null,
            "margin": null,
            "max_height": null,
            "max_width": null,
            "min_height": null,
            "min_width": null,
            "object_fit": null,
            "object_position": null,
            "order": null,
            "overflow": null,
            "overflow_x": null,
            "overflow_y": null,
            "padding": null,
            "right": null,
            "top": null,
            "visibility": null,
            "width": null
          }
        },
        "d1ba194527874023adc9ad2ec35ab6c2": {
          "model_module": "@jupyter-widgets/controls",
          "model_module_version": "1.5.0",
          "model_name": "DescriptionStyleModel",
          "state": {
            "_model_module": "@jupyter-widgets/controls",
            "_model_module_version": "1.5.0",
            "_model_name": "DescriptionStyleModel",
            "_view_count": null,
            "_view_module": "@jupyter-widgets/base",
            "_view_module_version": "1.2.0",
            "_view_name": "StyleView",
            "description_width": ""
          }
        },
        "d2864a59f28b4715b6e302169140094b": {
          "model_module": "@jupyter-widgets/controls",
          "model_module_version": "1.5.0",
          "model_name": "HTMLModel",
          "state": {
            "_dom_classes": [],
            "_model_module": "@jupyter-widgets/controls",
            "_model_module_version": "1.5.0",
            "_model_name": "HTMLModel",
            "_view_count": null,
            "_view_module": "@jupyter-widgets/controls",
            "_view_module_version": "1.5.0",
            "_view_name": "HTMLView",
            "description": "",
            "description_tooltip": null,
            "layout": "IPY_MODEL_5ec55d6c43df4545947bf2be20de4db0",
            "placeholder": "​",
            "style": "IPY_MODEL_97c858bc93a44ab49e0143141bc63f5f",
            "value": "tokenizer_config.json: 100%"
          }
        },
        "d76fb7c7b945471cb5b11cb90c82672c": {
          "model_module": "@jupyter-widgets/controls",
          "model_module_version": "1.5.0",
          "model_name": "HTMLModel",
          "state": {
            "_dom_classes": [],
            "_model_module": "@jupyter-widgets/controls",
            "_model_module_version": "1.5.0",
            "_model_name": "HTMLModel",
            "_view_count": null,
            "_view_module": "@jupyter-widgets/controls",
            "_view_module_version": "1.5.0",
            "_view_name": "HTMLView",
            "description": "",
            "description_tooltip": null,
            "layout": "IPY_MODEL_fb518a8fde7a4909b49b26b5850dc7f8",
            "placeholder": "​",
            "style": "IPY_MODEL_aea50fe8b17441c9a5601698b45a0d75",
            "value": "config.json: 100%"
          }
        },
        "e72519994a9c484ca6e1173986785cb9": {
          "model_module": "@jupyter-widgets/base",
          "model_module_version": "1.2.0",
          "model_name": "LayoutModel",
          "state": {
            "_model_module": "@jupyter-widgets/base",
            "_model_module_version": "1.2.0",
            "_model_name": "LayoutModel",
            "_view_count": null,
            "_view_module": "@jupyter-widgets/base",
            "_view_module_version": "1.2.0",
            "_view_name": "LayoutView",
            "align_content": null,
            "align_items": null,
            "align_self": null,
            "border": null,
            "bottom": null,
            "display": null,
            "flex": null,
            "flex_flow": null,
            "grid_area": null,
            "grid_auto_columns": null,
            "grid_auto_flow": null,
            "grid_auto_rows": null,
            "grid_column": null,
            "grid_gap": null,
            "grid_row": null,
            "grid_template_areas": null,
            "grid_template_columns": null,
            "grid_template_rows": null,
            "height": null,
            "justify_content": null,
            "justify_items": null,
            "left": null,
            "margin": null,
            "max_height": null,
            "max_width": null,
            "min_height": null,
            "min_width": null,
            "object_fit": null,
            "object_position": null,
            "order": null,
            "overflow": null,
            "overflow_x": null,
            "overflow_y": null,
            "padding": null,
            "right": null,
            "top": null,
            "visibility": null,
            "width": null
          }
        },
        "e749510ece124764af8f8bbab84d15de": {
          "model_module": "@jupyter-widgets/controls",
          "model_module_version": "1.5.0",
          "model_name": "DescriptionStyleModel",
          "state": {
            "_model_module": "@jupyter-widgets/controls",
            "_model_module_version": "1.5.0",
            "_model_name": "DescriptionStyleModel",
            "_view_count": null,
            "_view_module": "@jupyter-widgets/base",
            "_view_module_version": "1.2.0",
            "_view_name": "StyleView",
            "description_width": ""
          }
        },
        "f04aa8bdcab146fc84618932a563118c": {
          "model_module": "@jupyter-widgets/base",
          "model_module_version": "1.2.0",
          "model_name": "LayoutModel",
          "state": {
            "_model_module": "@jupyter-widgets/base",
            "_model_module_version": "1.2.0",
            "_model_name": "LayoutModel",
            "_view_count": null,
            "_view_module": "@jupyter-widgets/base",
            "_view_module_version": "1.2.0",
            "_view_name": "LayoutView",
            "align_content": null,
            "align_items": null,
            "align_self": null,
            "border": null,
            "bottom": null,
            "display": null,
            "flex": null,
            "flex_flow": null,
            "grid_area": null,
            "grid_auto_columns": null,
            "grid_auto_flow": null,
            "grid_auto_rows": null,
            "grid_column": null,
            "grid_gap": null,
            "grid_row": null,
            "grid_template_areas": null,
            "grid_template_columns": null,
            "grid_template_rows": null,
            "height": null,
            "justify_content": null,
            "justify_items": null,
            "left": null,
            "margin": null,
            "max_height": null,
            "max_width": null,
            "min_height": null,
            "min_width": null,
            "object_fit": null,
            "object_position": null,
            "order": null,
            "overflow": null,
            "overflow_x": null,
            "overflow_y": null,
            "padding": null,
            "right": null,
            "top": null,
            "visibility": null,
            "width": null
          }
        },
        "f0eccc98ca6b4278859e8251b0c89efe": {
          "model_module": "@jupyter-widgets/base",
          "model_module_version": "1.2.0",
          "model_name": "LayoutModel",
          "state": {
            "_model_module": "@jupyter-widgets/base",
            "_model_module_version": "1.2.0",
            "_model_name": "LayoutModel",
            "_view_count": null,
            "_view_module": "@jupyter-widgets/base",
            "_view_module_version": "1.2.0",
            "_view_name": "LayoutView",
            "align_content": null,
            "align_items": null,
            "align_self": null,
            "border": null,
            "bottom": null,
            "display": null,
            "flex": null,
            "flex_flow": null,
            "grid_area": null,
            "grid_auto_columns": null,
            "grid_auto_flow": null,
            "grid_auto_rows": null,
            "grid_column": null,
            "grid_gap": null,
            "grid_row": null,
            "grid_template_areas": null,
            "grid_template_columns": null,
            "grid_template_rows": null,
            "height": null,
            "justify_content": null,
            "justify_items": null,
            "left": null,
            "margin": null,
            "max_height": null,
            "max_width": null,
            "min_height": null,
            "min_width": null,
            "object_fit": null,
            "object_position": null,
            "order": null,
            "overflow": null,
            "overflow_x": null,
            "overflow_y": null,
            "padding": null,
            "right": null,
            "top": null,
            "visibility": null,
            "width": null
          }
        },
        "f289ca3e52174bbdaf393170874f9bfc": {
          "model_module": "@jupyter-widgets/base",
          "model_module_version": "1.2.0",
          "model_name": "LayoutModel",
          "state": {
            "_model_module": "@jupyter-widgets/base",
            "_model_module_version": "1.2.0",
            "_model_name": "LayoutModel",
            "_view_count": null,
            "_view_module": "@jupyter-widgets/base",
            "_view_module_version": "1.2.0",
            "_view_name": "LayoutView",
            "align_content": null,
            "align_items": null,
            "align_self": null,
            "border": null,
            "bottom": null,
            "display": null,
            "flex": null,
            "flex_flow": null,
            "grid_area": null,
            "grid_auto_columns": null,
            "grid_auto_flow": null,
            "grid_auto_rows": null,
            "grid_column": null,
            "grid_gap": null,
            "grid_row": null,
            "grid_template_areas": null,
            "grid_template_columns": null,
            "grid_template_rows": null,
            "height": null,
            "justify_content": null,
            "justify_items": null,
            "left": null,
            "margin": null,
            "max_height": null,
            "max_width": null,
            "min_height": null,
            "min_width": null,
            "object_fit": null,
            "object_position": null,
            "order": null,
            "overflow": null,
            "overflow_x": null,
            "overflow_y": null,
            "padding": null,
            "right": null,
            "top": null,
            "visibility": null,
            "width": null
          }
        },
        "f9a333bdd2834214bb2f783c5672a57c": {
          "model_module": "@jupyter-widgets/base",
          "model_module_version": "1.2.0",
          "model_name": "LayoutModel",
          "state": {
            "_model_module": "@jupyter-widgets/base",
            "_model_module_version": "1.2.0",
            "_model_name": "LayoutModel",
            "_view_count": null,
            "_view_module": "@jupyter-widgets/base",
            "_view_module_version": "1.2.0",
            "_view_name": "LayoutView",
            "align_content": null,
            "align_items": null,
            "align_self": null,
            "border": null,
            "bottom": null,
            "display": null,
            "flex": null,
            "flex_flow": null,
            "grid_area": null,
            "grid_auto_columns": null,
            "grid_auto_flow": null,
            "grid_auto_rows": null,
            "grid_column": null,
            "grid_gap": null,
            "grid_row": null,
            "grid_template_areas": null,
            "grid_template_columns": null,
            "grid_template_rows": null,
            "height": null,
            "justify_content": null,
            "justify_items": null,
            "left": null,
            "margin": null,
            "max_height": null,
            "max_width": null,
            "min_height": null,
            "min_width": null,
            "object_fit": null,
            "object_position": null,
            "order": null,
            "overflow": null,
            "overflow_x": null,
            "overflow_y": null,
            "padding": null,
            "right": null,
            "top": null,
            "visibility": null,
            "width": null
          }
        },
        "fb518a8fde7a4909b49b26b5850dc7f8": {
          "model_module": "@jupyter-widgets/base",
          "model_module_version": "1.2.0",
          "model_name": "LayoutModel",
          "state": {
            "_model_module": "@jupyter-widgets/base",
            "_model_module_version": "1.2.0",
            "_model_name": "LayoutModel",
            "_view_count": null,
            "_view_module": "@jupyter-widgets/base",
            "_view_module_version": "1.2.0",
            "_view_name": "LayoutView",
            "align_content": null,
            "align_items": null,
            "align_self": null,
            "border": null,
            "bottom": null,
            "display": null,
            "flex": null,
            "flex_flow": null,
            "grid_area": null,
            "grid_auto_columns": null,
            "grid_auto_flow": null,
            "grid_auto_rows": null,
            "grid_column": null,
            "grid_gap": null,
            "grid_row": null,
            "grid_template_areas": null,
            "grid_template_columns": null,
            "grid_template_rows": null,
            "height": null,
            "justify_content": null,
            "justify_items": null,
            "left": null,
            "margin": null,
            "max_height": null,
            "max_width": null,
            "min_height": null,
            "min_width": null,
            "object_fit": null,
            "object_position": null,
            "order": null,
            "overflow": null,
            "overflow_x": null,
            "overflow_y": null,
            "padding": null,
            "right": null,
            "top": null,
            "visibility": null,
            "width": null
          }
        }
      }
    }
  },
  "nbformat": 4,
  "nbformat_minor": 0
}
